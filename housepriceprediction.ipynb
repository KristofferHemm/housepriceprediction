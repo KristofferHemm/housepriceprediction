{
 "cells": [
  {
   "cell_type": "markdown",
   "id": "936ebc51",
   "metadata": {},
   "source": [
    "# House price prediction"
   ]
  },
  {
   "cell_type": "markdown",
   "id": "5bff6cc7",
   "metadata": {},
   "source": [
    "The dataset for this project consist of property data from Melbourne.  \n",
    "The features are a mix of continous and categorical variables.  \n",
    "The task is to predict which price class a property in the city belongs to."
   ]
  },
  {
   "cell_type": "markdown",
   "id": "eb502320",
   "metadata": {},
   "source": [
    "### Imports"
   ]
  },
  {
   "cell_type": "code",
   "execution_count": 1,
   "id": "a346b117",
   "metadata": {},
   "outputs": [],
   "source": [
    "import pandas as pd\n",
    "import numpy as np"
   ]
  },
  {
   "cell_type": "markdown",
   "id": "4524b683",
   "metadata": {},
   "source": [
    "### Reading the data"
   ]
  },
  {
   "cell_type": "code",
   "execution_count": 2,
   "id": "72bd32e7",
   "metadata": {},
   "outputs": [],
   "source": [
    "raw_df = pd.read_csv('data/train.csv', index_col=0)"
   ]
  },
  {
   "cell_type": "markdown",
   "id": "1bfecaa8",
   "metadata": {},
   "source": [
    "### Data exploration and visualisation"
   ]
  },
  {
   "cell_type": "markdown",
   "id": "f1257932",
   "metadata": {},
   "source": [
    "Let's look at the shape of the data."
   ]
  },
  {
   "cell_type": "code",
   "execution_count": 9,
   "id": "33b37e57",
   "metadata": {},
   "outputs": [
    {
     "name": "stdout",
     "output_type": "stream",
     "text": [
      "Shape of the dataset: (11543, 15).\n"
     ]
    }
   ],
   "source": [
    "print(f'Shape of the dataset: {raw_df.shape}.')"
   ]
  },
  {
   "cell_type": "markdown",
   "id": "95f7e3bc",
   "metadata": {},
   "source": [
    "Let's have a look the dataset."
   ]
  },
  {
   "cell_type": "code",
   "execution_count": 11,
   "id": "61f937d9",
   "metadata": {},
   "outputs": [
    {
     "data": {
      "text/html": [
       "<div>\n",
       "<style scoped>\n",
       "    .dataframe tbody tr th:only-of-type {\n",
       "        vertical-align: middle;\n",
       "    }\n",
       "\n",
       "    .dataframe tbody tr th {\n",
       "        vertical-align: top;\n",
       "    }\n",
       "\n",
       "    .dataframe thead th {\n",
       "        text-align: right;\n",
       "    }\n",
       "</style>\n",
       "<table border=\"1\" class=\"dataframe\">\n",
       "  <thead>\n",
       "    <tr style=\"text-align: right;\">\n",
       "      <th></th>\n",
       "      <th>Rooms</th>\n",
       "      <th>Type</th>\n",
       "      <th>Method</th>\n",
       "      <th>Distance</th>\n",
       "      <th>Postcode</th>\n",
       "      <th>Bedrooms</th>\n",
       "      <th>Bathroom</th>\n",
       "      <th>Car</th>\n",
       "      <th>Landsize</th>\n",
       "      <th>YearBuilt</th>\n",
       "      <th>Lattitude</th>\n",
       "      <th>Longtitude</th>\n",
       "      <th>Regionname</th>\n",
       "      <th>Propertycount</th>\n",
       "      <th>Price class</th>\n",
       "    </tr>\n",
       "  </thead>\n",
       "  <tbody>\n",
       "    <tr>\n",
       "      <th>0</th>\n",
       "      <td>4</td>\n",
       "      <td>h</td>\n",
       "      <td>S</td>\n",
       "      <td>6.4</td>\n",
       "      <td>3011.0</td>\n",
       "      <td>3.0</td>\n",
       "      <td>1.0</td>\n",
       "      <td>2.0</td>\n",
       "      <td>411.0</td>\n",
       "      <td>NaN</td>\n",
       "      <td>-37.79690</td>\n",
       "      <td>144.90490</td>\n",
       "      <td>Western Metropolitan</td>\n",
       "      <td>7570.0</td>\n",
       "      <td>1</td>\n",
       "    </tr>\n",
       "    <tr>\n",
       "      <th>1</th>\n",
       "      <td>4</td>\n",
       "      <td>h</td>\n",
       "      <td>S</td>\n",
       "      <td>14.6</td>\n",
       "      <td>3189.0</td>\n",
       "      <td>4.0</td>\n",
       "      <td>1.0</td>\n",
       "      <td>2.0</td>\n",
       "      <td>638.0</td>\n",
       "      <td>1972.0</td>\n",
       "      <td>-37.93780</td>\n",
       "      <td>145.05700</td>\n",
       "      <td>Southern Metropolitan</td>\n",
       "      <td>2555.0</td>\n",
       "      <td>1</td>\n",
       "    </tr>\n",
       "    <tr>\n",
       "      <th>2</th>\n",
       "      <td>5</td>\n",
       "      <td>h</td>\n",
       "      <td>PI</td>\n",
       "      <td>12.4</td>\n",
       "      <td>3107.0</td>\n",
       "      <td>5.0</td>\n",
       "      <td>4.0</td>\n",
       "      <td>2.0</td>\n",
       "      <td>968.0</td>\n",
       "      <td>1970.0</td>\n",
       "      <td>-37.77083</td>\n",
       "      <td>145.11516</td>\n",
       "      <td>Eastern Metropolitan</td>\n",
       "      <td>5420.0</td>\n",
       "      <td>1</td>\n",
       "    </tr>\n",
       "    <tr>\n",
       "      <th>3</th>\n",
       "      <td>3</td>\n",
       "      <td>h</td>\n",
       "      <td>SP</td>\n",
       "      <td>5.2</td>\n",
       "      <td>3056.0</td>\n",
       "      <td>3.0</td>\n",
       "      <td>1.0</td>\n",
       "      <td>2.0</td>\n",
       "      <td>264.0</td>\n",
       "      <td>NaN</td>\n",
       "      <td>-37.76110</td>\n",
       "      <td>144.96440</td>\n",
       "      <td>Northern Metropolitan</td>\n",
       "      <td>11918.0</td>\n",
       "      <td>0</td>\n",
       "    </tr>\n",
       "    <tr>\n",
       "      <th>4</th>\n",
       "      <td>3</td>\n",
       "      <td>h</td>\n",
       "      <td>S</td>\n",
       "      <td>8.8</td>\n",
       "      <td>3072.0</td>\n",
       "      <td>3.0</td>\n",
       "      <td>1.0</td>\n",
       "      <td>2.0</td>\n",
       "      <td>610.0</td>\n",
       "      <td>NaN</td>\n",
       "      <td>-37.75100</td>\n",
       "      <td>145.01970</td>\n",
       "      <td>Northern Metropolitan</td>\n",
       "      <td>14577.0</td>\n",
       "      <td>0</td>\n",
       "    </tr>\n",
       "  </tbody>\n",
       "</table>\n",
       "</div>"
      ],
      "text/plain": [
       "   Rooms Type Method  Distance  Postcode  Bedrooms  Bathroom  Car  Landsize  \\\n",
       "0      4    h      S       6.4    3011.0       3.0       1.0  2.0     411.0   \n",
       "1      4    h      S      14.6    3189.0       4.0       1.0  2.0     638.0   \n",
       "2      5    h     PI      12.4    3107.0       5.0       4.0  2.0     968.0   \n",
       "3      3    h     SP       5.2    3056.0       3.0       1.0  2.0     264.0   \n",
       "4      3    h      S       8.8    3072.0       3.0       1.0  2.0     610.0   \n",
       "\n",
       "   YearBuilt  Lattitude  Longtitude             Regionname  Propertycount  \\\n",
       "0        NaN  -37.79690   144.90490   Western Metropolitan         7570.0   \n",
       "1     1972.0  -37.93780   145.05700  Southern Metropolitan         2555.0   \n",
       "2     1970.0  -37.77083   145.11516   Eastern Metropolitan         5420.0   \n",
       "3        NaN  -37.76110   144.96440  Northern Metropolitan        11918.0   \n",
       "4        NaN  -37.75100   145.01970  Northern Metropolitan        14577.0   \n",
       "\n",
       "   Price class  \n",
       "0            1  \n",
       "1            1  \n",
       "2            1  \n",
       "3            0  \n",
       "4            0  "
      ]
     },
     "execution_count": 11,
     "metadata": {},
     "output_type": "execute_result"
    }
   ],
   "source": [
    "raw_df.head()"
   ]
  },
  {
   "cell_type": "markdown",
   "id": "74ec1496",
   "metadata": {},
   "source": [
    "We see that the following features are strings: Type, Method and Regionname.  \n",
    "We will to encode these features."
   ]
  },
  {
   "cell_type": "markdown",
   "id": "90d15c81",
   "metadata": {},
   "source": [
    "Let's check what types of data we have."
   ]
  },
  {
   "cell_type": "code",
   "execution_count": 10,
   "id": "bb009915",
   "metadata": {},
   "outputs": [
    {
     "data": {
      "text/plain": [
       "Rooms              int64\n",
       "Type              object\n",
       "Method            object\n",
       "Distance         float64\n",
       "Postcode         float64\n",
       "Bedrooms         float64\n",
       "Bathroom         float64\n",
       "Car              float64\n",
       "Landsize         float64\n",
       "YearBuilt        float64\n",
       "Lattitude        float64\n",
       "Longtitude       float64\n",
       "Regionname        object\n",
       "Propertycount    float64\n",
       "Price class        int64\n",
       "dtype: object"
      ]
     },
     "execution_count": 10,
     "metadata": {},
     "output_type": "execute_result"
    }
   ],
   "source": [
    "raw_df.dtypes"
   ]
  },
  {
   "cell_type": "markdown",
   "id": "df569b0a",
   "metadata": {},
   "source": [
    "Most of the features are floats.  \n",
    "Number of rooms in a house is an int.  \n",
    "And the target feature is an int."
   ]
  },
  {
   "cell_type": "markdown",
   "id": "e4cf49c7",
   "metadata": {},
   "source": [
    "Let's check for missing data."
   ]
  },
  {
   "cell_type": "code",
   "execution_count": 12,
   "id": "3cd6fc26",
   "metadata": {},
   "outputs": [
    {
     "data": {
      "text/plain": [
       "Rooms               0\n",
       "Type                0\n",
       "Method              0\n",
       "Distance            0\n",
       "Postcode            0\n",
       "Bedrooms            0\n",
       "Bathroom           46\n",
       "Car                53\n",
       "Landsize           33\n",
       "YearBuilt        4572\n",
       "Lattitude           0\n",
       "Longtitude          0\n",
       "Regionname          0\n",
       "Propertycount      40\n",
       "Price class         0\n",
       "dtype: int64"
      ]
     },
     "execution_count": 12,
     "metadata": {},
     "output_type": "execute_result"
    }
   ],
   "source": [
    "raw_df.isna().sum()"
   ]
  },
  {
   "cell_type": "markdown",
   "id": "775df1b5",
   "metadata": {},
   "source": [
    "We see that we have missing data in several features: Bathroom, Car, Landside, YearBuilt"
   ]
  }
 ],
 "metadata": {
  "kernelspec": {
   "display_name": "Python 3 (ipykernel)",
   "language": "python",
   "name": "python3"
  },
  "language_info": {
   "codemirror_mode": {
    "name": "ipython",
    "version": 3
   },
   "file_extension": ".py",
   "mimetype": "text/x-python",
   "name": "python",
   "nbconvert_exporter": "python",
   "pygments_lexer": "ipython3",
   "version": "3.10.4"
  }
 },
 "nbformat": 4,
 "nbformat_minor": 5
}
