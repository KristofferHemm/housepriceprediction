{
 "cells": [
  {
   "cell_type": "markdown",
   "id": "9d3d6fc5",
   "metadata": {},
   "source": [
    "# House price prediction"
   ]
  },
  {
   "cell_type": "markdown",
   "id": "9e4b4bf4",
   "metadata": {},
   "source": [
    "The dataset for this project consists of property data from Melbourne.  \n",
    "The features are a mix of continuous and categorical variables.  \n",
    "The task is to predict which price class a property in the city belongs to."
   ]
  },
  {
   "cell_type": "markdown",
   "id": "04f48eb6",
   "metadata": {},
   "source": [
    "### Imports"
   ]
  },
  {
   "cell_type": "code",
   "execution_count": 49,
   "id": "ea75df3e",
   "metadata": {},
   "outputs": [],
   "source": [
    "import pandas as pd\n",
    "import numpy as np\n",
    "import matplotlib.pyplot as plt\n",
    "import seaborn as sns\n",
    "from sklearn.preprocessing import OneHotEncoder, StandardScaler\n",
    "from sklearn.impute import SimpleImputer\n",
    "from sklearn.metrics import f1_score, accuracy_score, confusion_matrix\n",
    "from sklearn.model_selection import train_test_split, GridSearchCV, KFold\n",
    "from sklearn.decomposition import PCA\n",
    "from sklearn.decomposition import KernelPCA\n",
    "from sklearn.pipeline      import make_pipeline\n",
    "from sklearn.linear_model  import LogisticRegression\n",
    "from sklearn.neighbors import KNeighborsClassifier\n",
    "from sklearn.tree import DecisionTreeClassifier\n",
    "from sklearn.ensemble import RandomForestClassifier\n",
    "from sklearn.svm import SVC\n",
    "import warnings\n",
    "warnings.filterwarnings('ignore')"
   ]
  },
  {
   "cell_type": "markdown",
   "id": "60430d36",
   "metadata": {},
   "source": [
    "### Reading the data"
   ]
  },
  {
   "cell_type": "code",
   "execution_count": 7,
   "id": "954a57d4",
   "metadata": {},
   "outputs": [],
   "source": [
    "raw_df = pd.read_csv('data/train.csv', index_col=0)"
   ]
  },
  {
   "cell_type": "markdown",
   "id": "663a11db",
   "metadata": {},
   "source": [
    "### Data exploration and visualisation"
   ]
  },
  {
   "cell_type": "markdown",
   "id": "593d20fc",
   "metadata": {},
   "source": [
    "Let's look at the shape of the data."
   ]
  },
  {
   "cell_type": "code",
   "execution_count": 8,
   "id": "74e34b84",
   "metadata": {},
   "outputs": [
    {
     "name": "stdout",
     "output_type": "stream",
     "text": [
      "Shape of the dataset: (11543, 15).\n"
     ]
    }
   ],
   "source": [
    "print(f'Shape of the dataset: {raw_df.shape}.')"
   ]
  },
  {
   "cell_type": "markdown",
   "id": "8d91e426",
   "metadata": {},
   "source": [
    "Let's have a look at the dataset."
   ]
  },
  {
   "cell_type": "code",
   "execution_count": 9,
   "id": "2ff93527",
   "metadata": {},
   "outputs": [
    {
     "data": {
      "text/html": [
       "<div>\n",
       "<style scoped>\n",
       "    .dataframe tbody tr th:only-of-type {\n",
       "        vertical-align: middle;\n",
       "    }\n",
       "\n",
       "    .dataframe tbody tr th {\n",
       "        vertical-align: top;\n",
       "    }\n",
       "\n",
       "    .dataframe thead th {\n",
       "        text-align: right;\n",
       "    }\n",
       "</style>\n",
       "<table border=\"1\" class=\"dataframe\">\n",
       "  <thead>\n",
       "    <tr style=\"text-align: right;\">\n",
       "      <th></th>\n",
       "      <th>Rooms</th>\n",
       "      <th>Type</th>\n",
       "      <th>Method</th>\n",
       "      <th>Distance</th>\n",
       "      <th>Postcode</th>\n",
       "      <th>Bedrooms</th>\n",
       "      <th>Bathroom</th>\n",
       "      <th>Car</th>\n",
       "      <th>Landsize</th>\n",
       "      <th>YearBuilt</th>\n",
       "      <th>Lattitude</th>\n",
       "      <th>Longtitude</th>\n",
       "      <th>Regionname</th>\n",
       "      <th>Propertycount</th>\n",
       "      <th>Price class</th>\n",
       "    </tr>\n",
       "  </thead>\n",
       "  <tbody>\n",
       "    <tr>\n",
       "      <th>0</th>\n",
       "      <td>4</td>\n",
       "      <td>h</td>\n",
       "      <td>S</td>\n",
       "      <td>6.4</td>\n",
       "      <td>3011.0</td>\n",
       "      <td>3.0</td>\n",
       "      <td>1.0</td>\n",
       "      <td>2.0</td>\n",
       "      <td>411.0</td>\n",
       "      <td>NaN</td>\n",
       "      <td>-37.79690</td>\n",
       "      <td>144.90490</td>\n",
       "      <td>Western Metropolitan</td>\n",
       "      <td>7570.0</td>\n",
       "      <td>1</td>\n",
       "    </tr>\n",
       "    <tr>\n",
       "      <th>1</th>\n",
       "      <td>4</td>\n",
       "      <td>h</td>\n",
       "      <td>S</td>\n",
       "      <td>14.6</td>\n",
       "      <td>3189.0</td>\n",
       "      <td>4.0</td>\n",
       "      <td>1.0</td>\n",
       "      <td>2.0</td>\n",
       "      <td>638.0</td>\n",
       "      <td>1972.0</td>\n",
       "      <td>-37.93780</td>\n",
       "      <td>145.05700</td>\n",
       "      <td>Southern Metropolitan</td>\n",
       "      <td>2555.0</td>\n",
       "      <td>1</td>\n",
       "    </tr>\n",
       "    <tr>\n",
       "      <th>2</th>\n",
       "      <td>5</td>\n",
       "      <td>h</td>\n",
       "      <td>PI</td>\n",
       "      <td>12.4</td>\n",
       "      <td>3107.0</td>\n",
       "      <td>5.0</td>\n",
       "      <td>4.0</td>\n",
       "      <td>2.0</td>\n",
       "      <td>968.0</td>\n",
       "      <td>1970.0</td>\n",
       "      <td>-37.77083</td>\n",
       "      <td>145.11516</td>\n",
       "      <td>Eastern Metropolitan</td>\n",
       "      <td>5420.0</td>\n",
       "      <td>1</td>\n",
       "    </tr>\n",
       "    <tr>\n",
       "      <th>3</th>\n",
       "      <td>3</td>\n",
       "      <td>h</td>\n",
       "      <td>SP</td>\n",
       "      <td>5.2</td>\n",
       "      <td>3056.0</td>\n",
       "      <td>3.0</td>\n",
       "      <td>1.0</td>\n",
       "      <td>2.0</td>\n",
       "      <td>264.0</td>\n",
       "      <td>NaN</td>\n",
       "      <td>-37.76110</td>\n",
       "      <td>144.96440</td>\n",
       "      <td>Northern Metropolitan</td>\n",
       "      <td>11918.0</td>\n",
       "      <td>0</td>\n",
       "    </tr>\n",
       "    <tr>\n",
       "      <th>4</th>\n",
       "      <td>3</td>\n",
       "      <td>h</td>\n",
       "      <td>S</td>\n",
       "      <td>8.8</td>\n",
       "      <td>3072.0</td>\n",
       "      <td>3.0</td>\n",
       "      <td>1.0</td>\n",
       "      <td>2.0</td>\n",
       "      <td>610.0</td>\n",
       "      <td>NaN</td>\n",
       "      <td>-37.75100</td>\n",
       "      <td>145.01970</td>\n",
       "      <td>Northern Metropolitan</td>\n",
       "      <td>14577.0</td>\n",
       "      <td>0</td>\n",
       "    </tr>\n",
       "  </tbody>\n",
       "</table>\n",
       "</div>"
      ],
      "text/plain": [
       "   Rooms Type Method  Distance  Postcode  Bedrooms  Bathroom  Car  Landsize  \\\n",
       "0      4    h      S       6.4    3011.0       3.0       1.0  2.0     411.0   \n",
       "1      4    h      S      14.6    3189.0       4.0       1.0  2.0     638.0   \n",
       "2      5    h     PI      12.4    3107.0       5.0       4.0  2.0     968.0   \n",
       "3      3    h     SP       5.2    3056.0       3.0       1.0  2.0     264.0   \n",
       "4      3    h      S       8.8    3072.0       3.0       1.0  2.0     610.0   \n",
       "\n",
       "   YearBuilt  Lattitude  Longtitude             Regionname  Propertycount  \\\n",
       "0        NaN  -37.79690   144.90490   Western Metropolitan         7570.0   \n",
       "1     1972.0  -37.93780   145.05700  Southern Metropolitan         2555.0   \n",
       "2     1970.0  -37.77083   145.11516   Eastern Metropolitan         5420.0   \n",
       "3        NaN  -37.76110   144.96440  Northern Metropolitan        11918.0   \n",
       "4        NaN  -37.75100   145.01970  Northern Metropolitan        14577.0   \n",
       "\n",
       "   Price class  \n",
       "0            1  \n",
       "1            1  \n",
       "2            1  \n",
       "3            0  \n",
       "4            0  "
      ]
     },
     "execution_count": 9,
     "metadata": {},
     "output_type": "execute_result"
    }
   ],
   "source": [
    "raw_df.head()"
   ]
  },
  {
   "cell_type": "markdown",
   "id": "52bf05bc",
   "metadata": {},
   "source": [
    "We see that the following features are strings: Type, Method and Regionname.  \n",
    "We need to encode these features."
   ]
  },
  {
   "cell_type": "markdown",
   "id": "a5aed62d",
   "metadata": {},
   "source": [
    "Let's check what types of data we have."
   ]
  },
  {
   "cell_type": "code",
   "execution_count": 10,
   "id": "1d7218ee",
   "metadata": {},
   "outputs": [
    {
     "data": {
      "text/plain": [
       "Rooms              int64\n",
       "Type              object\n",
       "Method            object\n",
       "Distance         float64\n",
       "Postcode         float64\n",
       "Bedrooms         float64\n",
       "Bathroom         float64\n",
       "Car              float64\n",
       "Landsize         float64\n",
       "YearBuilt        float64\n",
       "Lattitude        float64\n",
       "Longtitude       float64\n",
       "Regionname        object\n",
       "Propertycount    float64\n",
       "Price class        int64\n",
       "dtype: object"
      ]
     },
     "execution_count": 10,
     "metadata": {},
     "output_type": "execute_result"
    }
   ],
   "source": [
    "raw_df.dtypes"
   ]
  },
  {
   "cell_type": "markdown",
   "id": "9bb4682c",
   "metadata": {},
   "source": [
    "Most of the features are floats.  \n",
    "Number of rooms in a house is an integer.  \n",
    "And the target feature is an integer."
   ]
  },
  {
   "cell_type": "markdown",
   "id": "1f40bc5c",
   "metadata": {},
   "source": [
    "Let's check for missing data."
   ]
  },
  {
   "cell_type": "code",
   "execution_count": 11,
   "id": "0227cf01",
   "metadata": {},
   "outputs": [
    {
     "data": {
      "text/plain": [
       "Rooms               0\n",
       "Type                0\n",
       "Method              0\n",
       "Distance            0\n",
       "Postcode            0\n",
       "Bedrooms            0\n",
       "Bathroom           46\n",
       "Car                53\n",
       "Landsize           33\n",
       "YearBuilt        4572\n",
       "Lattitude           0\n",
       "Longtitude          0\n",
       "Regionname          0\n",
       "Propertycount      40\n",
       "Price class         0\n",
       "dtype: int64"
      ]
     },
     "execution_count": 11,
     "metadata": {},
     "output_type": "execute_result"
    }
   ],
   "source": [
    "raw_df.isna().sum()"
   ]
  },
  {
   "cell_type": "markdown",
   "id": "531c89ef",
   "metadata": {},
   "source": [
    "We see that we have missing data in the following features: Bathroom, Car, Landside, YearBuilt and Propertycount.  \n",
    "This must be dealt with."
   ]
  },
  {
   "cell_type": "markdown",
   "id": "7fadc00f",
   "metadata": {},
   "source": [
    "Let's see how many different categories we have in the target feature."
   ]
  },
  {
   "cell_type": "code",
   "execution_count": 12,
   "id": "bc7f6f02",
   "metadata": {},
   "outputs": [
    {
     "data": {
      "text/plain": [
       "3"
      ]
     },
     "execution_count": 12,
     "metadata": {},
     "output_type": "execute_result"
    }
   ],
   "source": [
    "raw_df['Price class'].nunique()"
   ]
  },
  {
   "cell_type": "markdown",
   "id": "0d7377c4",
   "metadata": {},
   "source": [
    "The target feature has 3 different categories.  \n",
    "Let's look at what those 3 labels are."
   ]
  },
  {
   "cell_type": "code",
   "execution_count": 13,
   "id": "fa32baba",
   "metadata": {},
   "outputs": [
    {
     "data": {
      "text/plain": [
       "array([1, 0, 2], dtype=int64)"
      ]
     },
     "execution_count": 13,
     "metadata": {},
     "output_type": "execute_result"
    }
   ],
   "source": [
    "raw_df['Price class'].unique()"
   ]
  },
  {
   "cell_type": "markdown",
   "id": "f8869587",
   "metadata": {},
   "source": [
    "The three labels in the target are the following integers: 0, 1, and 2."
   ]
  },
  {
   "cell_type": "markdown",
   "id": "5b759125",
   "metadata": {},
   "source": [
    "Lets look at the distribution of the target feature."
   ]
  },
  {
   "cell_type": "code",
   "execution_count": 14,
   "id": "b808319a",
   "metadata": {},
   "outputs": [
    {
     "data": {
      "text/plain": [
       "<AxesSubplot:>"
      ]
     },
     "execution_count": 14,
     "metadata": {},
     "output_type": "execute_result"
    },
    {
     "data": {
      "image/png": "[encoded data removed]",
      "text/plain": [
       "<Figure size 640x480 with 1 Axes>"
      ]
     },
     "metadata": {},
     "output_type": "display_data"
    }
   ],
   "source": [
    "raw_df['Price class'].value_counts(normalize=True).plot(kind='bar')"
   ]
  },
  {
   "cell_type": "markdown",
   "id": "531436b9",
   "metadata": {},
   "source": [
    "We observe that the target feature is not very well balnced, so we should use macro f1 as the scoring metric."
   ]
  },
  {
   "cell_type": "markdown",
   "id": "0dcde0f0",
   "metadata": {},
   "source": [
    "### Data cleaning"
   ]
  },
  {
   "cell_type": "markdown",
   "id": "3fdc2b48",
   "metadata": {},
   "source": [
    "First we will encode the features that are strings."
   ]
  },
  {
   "cell_type": "code",
   "execution_count": 15,
   "id": "bdd0525d",
   "metadata": {},
   "outputs": [],
   "source": [
    "# We will use OneHotEncoder from scikitlearn to encode the string features.\n",
    "def encoding(x):\n",
    "    ohe = OneHotEncoder()\n",
    "    ohe_results = ohe.fit_transform(raw_df[[x]])\n",
    "    return pd.DataFrame(ohe_results.toarray(), columns=ohe.categories_[0])\n",
    "\n",
    "# Type, Method and Regionname features need to be encoded\n",
    "typ = encoding('Type')\n",
    "method = encoding('Method')\n",
    "region = encoding('Regionname')\n",
    "\n",
    "# Add the encoded features\n",
    "encoded_df = raw_df.join(pd.DataFrame(typ))\n",
    "encoded_df = encoded_df.join(pd.DataFrame(method))\n",
    "encoded_df = encoded_df.join(pd.DataFrame(region))\n",
    "\n",
    "# Remove the original features containing strings\n",
    "del encoded_df['Type']\n",
    "del encoded_df['Method']\n",
    "del encoded_df['Regionname']"
   ]
  },
  {
   "cell_type": "markdown",
   "id": "2189af72",
   "metadata": {},
   "source": [
    "Let's move price class, the target feature, to the end of the dataframe for convenience"
   ]
  },
  {
   "cell_type": "code",
   "execution_count": 16,
   "id": "4929ebb5",
   "metadata": {},
   "outputs": [
    {
     "data": {
      "text/html": [
       "<div>\n",
       "<style scoped>\n",
       "    .dataframe tbody tr th:only-of-type {\n",
       "        vertical-align: middle;\n",
       "    }\n",
       "\n",
       "    .dataframe tbody tr th {\n",
       "        vertical-align: top;\n",
       "    }\n",
       "\n",
       "    .dataframe thead th {\n",
       "        text-align: right;\n",
       "    }\n",
       "</style>\n",
       "<table border=\"1\" class=\"dataframe\">\n",
       "  <thead>\n",
       "    <tr style=\"text-align: right;\">\n",
       "      <th></th>\n",
       "      <th>Rooms</th>\n",
       "      <th>Distance</th>\n",
       "      <th>Postcode</th>\n",
       "      <th>Bedrooms</th>\n",
       "      <th>Bathroom</th>\n",
       "      <th>Car</th>\n",
       "      <th>Landsize</th>\n",
       "      <th>YearBuilt</th>\n",
       "      <th>Lattitude</th>\n",
       "      <th>Longtitude</th>\n",
       "      <th>...</th>\n",
       "      <th>VB</th>\n",
       "      <th>Eastern Metropolitan</th>\n",
       "      <th>Eastern Victoria</th>\n",
       "      <th>Northern Metropolitan</th>\n",
       "      <th>Northern Victoria</th>\n",
       "      <th>South-Eastern Metropolitan</th>\n",
       "      <th>Southern Metropolitan</th>\n",
       "      <th>Western Metropolitan</th>\n",
       "      <th>Western Victoria</th>\n",
       "      <th>Price class</th>\n",
       "    </tr>\n",
       "  </thead>\n",
       "  <tbody>\n",
       "    <tr>\n",
       "      <th>0</th>\n",
       "      <td>4</td>\n",
       "      <td>6.4</td>\n",
       "      <td>3011.0</td>\n",
       "      <td>3.0</td>\n",
       "      <td>1.0</td>\n",
       "      <td>2.0</td>\n",
       "      <td>411.0</td>\n",
       "      <td>NaN</td>\n",
       "      <td>-37.79690</td>\n",
       "      <td>144.90490</td>\n",
       "      <td>...</td>\n",
       "      <td>0.0</td>\n",
       "      <td>0.0</td>\n",
       "      <td>0.0</td>\n",
       "      <td>0.0</td>\n",
       "      <td>0.0</td>\n",
       "      <td>0.0</td>\n",
       "      <td>0.0</td>\n",
       "      <td>1.0</td>\n",
       "      <td>0.0</td>\n",
       "      <td>1</td>\n",
       "    </tr>\n",
       "    <tr>\n",
       "      <th>1</th>\n",
       "      <td>4</td>\n",
       "      <td>14.6</td>\n",
       "      <td>3189.0</td>\n",
       "      <td>4.0</td>\n",
       "      <td>1.0</td>\n",
       "      <td>2.0</td>\n",
       "      <td>638.0</td>\n",
       "      <td>1972.0</td>\n",
       "      <td>-37.93780</td>\n",
       "      <td>145.05700</td>\n",
       "      <td>...</td>\n",
       "      <td>0.0</td>\n",
       "      <td>0.0</td>\n",
       "      <td>0.0</td>\n",
       "      <td>0.0</td>\n",
       "      <td>0.0</td>\n",
       "      <td>0.0</td>\n",
       "      <td>1.0</td>\n",
       "      <td>0.0</td>\n",
       "      <td>0.0</td>\n",
       "      <td>1</td>\n",
       "    </tr>\n",
       "    <tr>\n",
       "      <th>2</th>\n",
       "      <td>5</td>\n",
       "      <td>12.4</td>\n",
       "      <td>3107.0</td>\n",
       "      <td>5.0</td>\n",
       "      <td>4.0</td>\n",
       "      <td>2.0</td>\n",
       "      <td>968.0</td>\n",
       "      <td>1970.0</td>\n",
       "      <td>-37.77083</td>\n",
       "      <td>145.11516</td>\n",
       "      <td>...</td>\n",
       "      <td>0.0</td>\n",
       "      <td>1.0</td>\n",
       "      <td>0.0</td>\n",
       "      <td>0.0</td>\n",
       "      <td>0.0</td>\n",
       "      <td>0.0</td>\n",
       "      <td>0.0</td>\n",
       "      <td>0.0</td>\n",
       "      <td>0.0</td>\n",
       "      <td>1</td>\n",
       "    </tr>\n",
       "    <tr>\n",
       "      <th>3</th>\n",
       "      <td>3</td>\n",
       "      <td>5.2</td>\n",
       "      <td>3056.0</td>\n",
       "      <td>3.0</td>\n",
       "      <td>1.0</td>\n",
       "      <td>2.0</td>\n",
       "      <td>264.0</td>\n",
       "      <td>NaN</td>\n",
       "      <td>-37.76110</td>\n",
       "      <td>144.96440</td>\n",
       "      <td>...</td>\n",
       "      <td>0.0</td>\n",
       "      <td>0.0</td>\n",
       "      <td>0.0</td>\n",
       "      <td>1.0</td>\n",
       "      <td>0.0</td>\n",
       "      <td>0.0</td>\n",
       "      <td>0.0</td>\n",
       "      <td>0.0</td>\n",
       "      <td>0.0</td>\n",
       "      <td>0</td>\n",
       "    </tr>\n",
       "    <tr>\n",
       "      <th>4</th>\n",
       "      <td>3</td>\n",
       "      <td>8.8</td>\n",
       "      <td>3072.0</td>\n",
       "      <td>3.0</td>\n",
       "      <td>1.0</td>\n",
       "      <td>2.0</td>\n",
       "      <td>610.0</td>\n",
       "      <td>NaN</td>\n",
       "      <td>-37.75100</td>\n",
       "      <td>145.01970</td>\n",
       "      <td>...</td>\n",
       "      <td>0.0</td>\n",
       "      <td>0.0</td>\n",
       "      <td>0.0</td>\n",
       "      <td>1.0</td>\n",
       "      <td>0.0</td>\n",
       "      <td>0.0</td>\n",
       "      <td>0.0</td>\n",
       "      <td>0.0</td>\n",
       "      <td>0.0</td>\n",
       "      <td>0</td>\n",
       "    </tr>\n",
       "  </tbody>\n",
       "</table>\n",
       "<p>5 rows × 28 columns</p>\n",
       "</div>"
      ],
      "text/plain": [
       "   Rooms  Distance  Postcode  Bedrooms  Bathroom  Car  Landsize  YearBuilt  \\\n",
       "0      4       6.4    3011.0       3.0       1.0  2.0     411.0        NaN   \n",
       "1      4      14.6    3189.0       4.0       1.0  2.0     638.0     1972.0   \n",
       "2      5      12.4    3107.0       5.0       4.0  2.0     968.0     1970.0   \n",
       "3      3       5.2    3056.0       3.0       1.0  2.0     264.0        NaN   \n",
       "4      3       8.8    3072.0       3.0       1.0  2.0     610.0        NaN   \n",
       "\n",
       "   Lattitude  Longtitude  ...   VB  Eastern Metropolitan  Eastern Victoria  \\\n",
       "0  -37.79690   144.90490  ...  0.0                   0.0               0.0   \n",
       "1  -37.93780   145.05700  ...  0.0                   0.0               0.0   \n",
       "2  -37.77083   145.11516  ...  0.0                   1.0               0.0   \n",
       "3  -37.76110   144.96440  ...  0.0                   0.0               0.0   \n",
       "4  -37.75100   145.01970  ...  0.0                   0.0               0.0   \n",
       "\n",
       "   Northern Metropolitan  Northern Victoria  South-Eastern Metropolitan  \\\n",
       "0                    0.0                0.0                         0.0   \n",
       "1                    0.0                0.0                         0.0   \n",
       "2                    0.0                0.0                         0.0   \n",
       "3                    1.0                0.0                         0.0   \n",
       "4                    1.0                0.0                         0.0   \n",
       "\n",
       "   Southern Metropolitan  Western Metropolitan  Western Victoria  Price class  \n",
       "0                    0.0                   1.0               0.0            1  \n",
       "1                    1.0                   0.0               0.0            1  \n",
       "2                    0.0                   0.0               0.0            1  \n",
       "3                    0.0                   0.0               0.0            0  \n",
       "4                    0.0                   0.0               0.0            0  \n",
       "\n",
       "[5 rows x 28 columns]"
      ]
     },
     "execution_count": 16,
     "metadata": {},
     "output_type": "execute_result"
    }
   ],
   "source": [
    "price = encoded_df.pop('Price class')\n",
    "encoded_df['Price class'] = price\n",
    "encoded_df.head()"
   ]
  },
  {
   "cell_type": "markdown",
   "id": "ee9083a7",
   "metadata": {},
   "source": [
    "Now we will deal with the missing data.  \n",
    "First, we will try to remove the obervations with missing data."
   ]
  },
  {
   "cell_type": "code",
   "execution_count": 17,
   "id": "d0ce24c0",
   "metadata": {},
   "outputs": [],
   "source": [
    "nonan_df = encoded_df.dropna(axis=0)"
   ]
  },
  {
   "cell_type": "code",
   "execution_count": 18,
   "id": "bdec122a",
   "metadata": {},
   "outputs": [
    {
     "name": "stdout",
     "output_type": "stream",
     "text": [
      "Out of 11543 observations we lost 4676 observations\n"
     ]
    }
   ],
   "source": [
    "lost_rows = encoded_df.shape[0] - nonan_df.shape[0]\n",
    "print(f'Out of {raw_df.shape[0]} observations we lost {lost_rows} observations')"
   ]
  },
  {
   "cell_type": "markdown",
   "id": "2a84589c",
   "metadata": {},
   "source": [
    "Removing the observations with missing data caused us to lose almost half of the data, which is too much.  \n",
    "We will try to replace the missing data with the mean value of the repective feature."
   ]
  },
  {
   "cell_type": "code",
   "execution_count": 19,
   "id": "07287781",
   "metadata": {},
   "outputs": [],
   "source": [
    "# We will use SimpleImputer scikitlearn to replace the missing data with mean values\n",
    "imr = SimpleImputer(missing_values=np.nan, strategy='mean')\n",
    "imr = imr.fit(encoded_df.values)\n",
    "imputed_data = imr.transform(encoded_df.values)\n",
    "imputed_df = pd.DataFrame(imr.fit_transform(encoded_df))\n",
    "colnames = list(encoded_df.columns.values)\n",
    "imputed_df = imputed_df.set_axis(colnames, axis=1, inplace=False)"
   ]
  },
  {
   "cell_type": "markdown",
   "id": "8bf1440f",
   "metadata": {},
   "source": [
    "Let's look at some basic statistics"
   ]
  },
  {
   "cell_type": "code",
   "execution_count": 20,
   "id": "cbe1e171",
   "metadata": {},
   "outputs": [
    {
     "data": {
      "text/html": [
       "<div>\n",
       "<style scoped>\n",
       "    .dataframe tbody tr th:only-of-type {\n",
       "        vertical-align: middle;\n",
       "    }\n",
       "\n",
       "    .dataframe tbody tr th {\n",
       "        vertical-align: top;\n",
       "    }\n",
       "\n",
       "    .dataframe thead th {\n",
       "        text-align: right;\n",
       "    }\n",
       "</style>\n",
       "<table border=\"1\" class=\"dataframe\">\n",
       "  <thead>\n",
       "    <tr style=\"text-align: right;\">\n",
       "      <th></th>\n",
       "      <th>Rooms</th>\n",
       "      <th>Distance</th>\n",
       "      <th>Postcode</th>\n",
       "      <th>Bedrooms</th>\n",
       "      <th>Bathroom</th>\n",
       "      <th>Car</th>\n",
       "      <th>Landsize</th>\n",
       "      <th>YearBuilt</th>\n",
       "      <th>Lattitude</th>\n",
       "      <th>Longtitude</th>\n",
       "      <th>...</th>\n",
       "      <th>VB</th>\n",
       "      <th>Eastern Metropolitan</th>\n",
       "      <th>Eastern Victoria</th>\n",
       "      <th>Northern Metropolitan</th>\n",
       "      <th>Northern Victoria</th>\n",
       "      <th>South-Eastern Metropolitan</th>\n",
       "      <th>Southern Metropolitan</th>\n",
       "      <th>Western Metropolitan</th>\n",
       "      <th>Western Victoria</th>\n",
       "      <th>Price class</th>\n",
       "    </tr>\n",
       "  </thead>\n",
       "  <tbody>\n",
       "    <tr>\n",
       "      <th>count</th>\n",
       "      <td>11543.000000</td>\n",
       "      <td>11543.000000</td>\n",
       "      <td>11543.000000</td>\n",
       "      <td>11543.000000</td>\n",
       "      <td>11543.00000</td>\n",
       "      <td>11543.000000</td>\n",
       "      <td>11543.000000</td>\n",
       "      <td>11543.000000</td>\n",
       "      <td>11543.000000</td>\n",
       "      <td>11543.000000</td>\n",
       "      <td>...</td>\n",
       "      <td>11543.000000</td>\n",
       "      <td>11543.000000</td>\n",
       "      <td>11543.000000</td>\n",
       "      <td>11543.000000</td>\n",
       "      <td>11543.000000</td>\n",
       "      <td>11543.000000</td>\n",
       "      <td>11543.000000</td>\n",
       "      <td>11543.000000</td>\n",
       "      <td>11543.000000</td>\n",
       "      <td>11543.000000</td>\n",
       "    </tr>\n",
       "    <tr>\n",
       "      <th>mean</th>\n",
       "      <td>2.944122</td>\n",
       "      <td>10.158694</td>\n",
       "      <td>3105.288400</td>\n",
       "      <td>2.921164</td>\n",
       "      <td>1.53527</td>\n",
       "      <td>1.614534</td>\n",
       "      <td>531.192789</td>\n",
       "      <td>1964.764596</td>\n",
       "      <td>-37.809255</td>\n",
       "      <td>144.995236</td>\n",
       "      <td>...</td>\n",
       "      <td>0.088192</td>\n",
       "      <td>0.108637</td>\n",
       "      <td>0.003812</td>\n",
       "      <td>0.285541</td>\n",
       "      <td>0.003119</td>\n",
       "      <td>0.033440</td>\n",
       "      <td>0.345491</td>\n",
       "      <td>0.217448</td>\n",
       "      <td>0.002512</td>\n",
       "      <td>0.438794</td>\n",
       "    </tr>\n",
       "    <tr>\n",
       "      <th>std</th>\n",
       "      <td>0.953200</td>\n",
       "      <td>5.864749</td>\n",
       "      <td>90.169874</td>\n",
       "      <td>0.966528</td>\n",
       "      <td>0.69143</td>\n",
       "      <td>0.956776</td>\n",
       "      <td>1536.529369</td>\n",
       "      <td>29.099193</td>\n",
       "      <td>0.079379</td>\n",
       "      <td>0.104103</td>\n",
       "      <td>...</td>\n",
       "      <td>0.283586</td>\n",
       "      <td>0.311197</td>\n",
       "      <td>0.061625</td>\n",
       "      <td>0.451691</td>\n",
       "      <td>0.055761</td>\n",
       "      <td>0.179791</td>\n",
       "      <td>0.475549</td>\n",
       "      <td>0.412528</td>\n",
       "      <td>0.050062</td>\n",
       "      <td>0.607847</td>\n",
       "    </tr>\n",
       "    <tr>\n",
       "      <th>min</th>\n",
       "      <td>1.000000</td>\n",
       "      <td>0.000000</td>\n",
       "      <td>3000.000000</td>\n",
       "      <td>0.000000</td>\n",
       "      <td>0.00000</td>\n",
       "      <td>0.000000</td>\n",
       "      <td>0.000000</td>\n",
       "      <td>1196.000000</td>\n",
       "      <td>-38.182550</td>\n",
       "      <td>144.431810</td>\n",
       "      <td>...</td>\n",
       "      <td>0.000000</td>\n",
       "      <td>0.000000</td>\n",
       "      <td>0.000000</td>\n",
       "      <td>0.000000</td>\n",
       "      <td>0.000000</td>\n",
       "      <td>0.000000</td>\n",
       "      <td>0.000000</td>\n",
       "      <td>0.000000</td>\n",
       "      <td>0.000000</td>\n",
       "      <td>0.000000</td>\n",
       "    </tr>\n",
       "    <tr>\n",
       "      <th>25%</th>\n",
       "      <td>2.000000</td>\n",
       "      <td>6.200000</td>\n",
       "      <td>3044.000000</td>\n",
       "      <td>2.000000</td>\n",
       "      <td>1.00000</td>\n",
       "      <td>1.000000</td>\n",
       "      <td>180.000000</td>\n",
       "      <td>1960.000000</td>\n",
       "      <td>-37.857100</td>\n",
       "      <td>144.929500</td>\n",
       "      <td>...</td>\n",
       "      <td>0.000000</td>\n",
       "      <td>0.000000</td>\n",
       "      <td>0.000000</td>\n",
       "      <td>0.000000</td>\n",
       "      <td>0.000000</td>\n",
       "      <td>0.000000</td>\n",
       "      <td>0.000000</td>\n",
       "      <td>0.000000</td>\n",
       "      <td>0.000000</td>\n",
       "      <td>0.000000</td>\n",
       "    </tr>\n",
       "    <tr>\n",
       "      <th>50%</th>\n",
       "      <td>3.000000</td>\n",
       "      <td>9.200000</td>\n",
       "      <td>3084.000000</td>\n",
       "      <td>3.000000</td>\n",
       "      <td>1.00000</td>\n",
       "      <td>2.000000</td>\n",
       "      <td>445.000000</td>\n",
       "      <td>1964.764596</td>\n",
       "      <td>-37.802300</td>\n",
       "      <td>145.000150</td>\n",
       "      <td>...</td>\n",
       "      <td>0.000000</td>\n",
       "      <td>0.000000</td>\n",
       "      <td>0.000000</td>\n",
       "      <td>0.000000</td>\n",
       "      <td>0.000000</td>\n",
       "      <td>0.000000</td>\n",
       "      <td>0.000000</td>\n",
       "      <td>0.000000</td>\n",
       "      <td>0.000000</td>\n",
       "      <td>0.000000</td>\n",
       "    </tr>\n",
       "    <tr>\n",
       "      <th>75%</th>\n",
       "      <td>3.000000</td>\n",
       "      <td>13.000000</td>\n",
       "      <td>3148.000000</td>\n",
       "      <td>3.000000</td>\n",
       "      <td>2.00000</td>\n",
       "      <td>2.000000</td>\n",
       "      <td>650.000000</td>\n",
       "      <td>1975.000000</td>\n",
       "      <td>-37.756250</td>\n",
       "      <td>145.058200</td>\n",
       "      <td>...</td>\n",
       "      <td>0.000000</td>\n",
       "      <td>0.000000</td>\n",
       "      <td>0.000000</td>\n",
       "      <td>1.000000</td>\n",
       "      <td>0.000000</td>\n",
       "      <td>0.000000</td>\n",
       "      <td>1.000000</td>\n",
       "      <td>0.000000</td>\n",
       "      <td>0.000000</td>\n",
       "      <td>1.000000</td>\n",
       "    </tr>\n",
       "    <tr>\n",
       "      <th>max</th>\n",
       "      <td>10.000000</td>\n",
       "      <td>48.100000</td>\n",
       "      <td>3977.000000</td>\n",
       "      <td>20.000000</td>\n",
       "      <td>8.00000</td>\n",
       "      <td>10.000000</td>\n",
       "      <td>76000.000000</td>\n",
       "      <td>2018.000000</td>\n",
       "      <td>-37.408530</td>\n",
       "      <td>145.526350</td>\n",
       "      <td>...</td>\n",
       "      <td>1.000000</td>\n",
       "      <td>1.000000</td>\n",
       "      <td>1.000000</td>\n",
       "      <td>1.000000</td>\n",
       "      <td>1.000000</td>\n",
       "      <td>1.000000</td>\n",
       "      <td>1.000000</td>\n",
       "      <td>1.000000</td>\n",
       "      <td>1.000000</td>\n",
       "      <td>2.000000</td>\n",
       "    </tr>\n",
       "  </tbody>\n",
       "</table>\n",
       "<p>8 rows × 28 columns</p>\n",
       "</div>"
      ],
      "text/plain": [
       "              Rooms      Distance      Postcode      Bedrooms     Bathroom  \\\n",
       "count  11543.000000  11543.000000  11543.000000  11543.000000  11543.00000   \n",
       "mean       2.944122     10.158694   3105.288400      2.921164      1.53527   \n",
       "std        0.953200      5.864749     90.169874      0.966528      0.69143   \n",
       "min        1.000000      0.000000   3000.000000      0.000000      0.00000   \n",
       "25%        2.000000      6.200000   3044.000000      2.000000      1.00000   \n",
       "50%        3.000000      9.200000   3084.000000      3.000000      1.00000   \n",
       "75%        3.000000     13.000000   3148.000000      3.000000      2.00000   \n",
       "max       10.000000     48.100000   3977.000000     20.000000      8.00000   \n",
       "\n",
       "                Car      Landsize     YearBuilt     Lattitude    Longtitude  \\\n",
       "count  11543.000000  11543.000000  11543.000000  11543.000000  11543.000000   \n",
       "mean       1.614534    531.192789   1964.764596    -37.809255    144.995236   \n",
       "std        0.956776   1536.529369     29.099193      0.079379      0.104103   \n",
       "min        0.000000      0.000000   1196.000000    -38.182550    144.431810   \n",
       "25%        1.000000    180.000000   1960.000000    -37.857100    144.929500   \n",
       "50%        2.000000    445.000000   1964.764596    -37.802300    145.000150   \n",
       "75%        2.000000    650.000000   1975.000000    -37.756250    145.058200   \n",
       "max       10.000000  76000.000000   2018.000000    -37.408530    145.526350   \n",
       "\n",
       "       ...            VB  Eastern Metropolitan  Eastern Victoria  \\\n",
       "count  ...  11543.000000          11543.000000      11543.000000   \n",
       "mean   ...      0.088192              0.108637          0.003812   \n",
       "std    ...      0.283586              0.311197          0.061625   \n",
       "min    ...      0.000000              0.000000          0.000000   \n",
       "25%    ...      0.000000              0.000000          0.000000   \n",
       "50%    ...      0.000000              0.000000          0.000000   \n",
       "75%    ...      0.000000              0.000000          0.000000   \n",
       "max    ...      1.000000              1.000000          1.000000   \n",
       "\n",
       "       Northern Metropolitan  Northern Victoria  South-Eastern Metropolitan  \\\n",
       "count           11543.000000       11543.000000                11543.000000   \n",
       "mean                0.285541           0.003119                    0.033440   \n",
       "std                 0.451691           0.055761                    0.179791   \n",
       "min                 0.000000           0.000000                    0.000000   \n",
       "25%                 0.000000           0.000000                    0.000000   \n",
       "50%                 0.000000           0.000000                    0.000000   \n",
       "75%                 1.000000           0.000000                    0.000000   \n",
       "max                 1.000000           1.000000                    1.000000   \n",
       "\n",
       "       Southern Metropolitan  Western Metropolitan  Western Victoria  \\\n",
       "count           11543.000000          11543.000000      11543.000000   \n",
       "mean                0.345491              0.217448          0.002512   \n",
       "std                 0.475549              0.412528          0.050062   \n",
       "min                 0.000000              0.000000          0.000000   \n",
       "25%                 0.000000              0.000000          0.000000   \n",
       "50%                 0.000000              0.000000          0.000000   \n",
       "75%                 1.000000              0.000000          0.000000   \n",
       "max                 1.000000              1.000000          1.000000   \n",
       "\n",
       "        Price class  \n",
       "count  11543.000000  \n",
       "mean       0.438794  \n",
       "std        0.607847  \n",
       "min        0.000000  \n",
       "25%        0.000000  \n",
       "50%        0.000000  \n",
       "75%        1.000000  \n",
       "max        2.000000  \n",
       "\n",
       "[8 rows x 28 columns]"
      ]
     },
     "execution_count": 20,
     "metadata": {},
     "output_type": "execute_result"
    }
   ],
   "source": [
    "imputed_df.describe()"
   ]
  },
  {
   "cell_type": "markdown",
   "id": "d147fadc",
   "metadata": {},
   "source": [
    "The standard deviation of Landsize is very large, about 3 times as large as the mean. Which is something we will have to deal with."
   ]
  },
  {
   "cell_type": "markdown",
   "id": "479b9b60",
   "metadata": {},
   "source": [
    "### Visualization"
   ]
  },
  {
   "cell_type": "markdown",
   "id": "6441ab42",
   "metadata": {},
   "source": [
    "Let's make some visualisations to look at the distribution of the features."
   ]
  },
  {
   "cell_type": "markdown",
   "id": "5cb8fd59",
   "metadata": {},
   "source": [
    "First we will look at a histogram for the non-dummy features (including the dummies results in plots that are not very nice)."
   ]
  },
  {
   "cell_type": "code",
   "execution_count": 21,
   "id": "90ef4480",
   "metadata": {},
   "outputs": [
    {
     "data": {
      "image/png": "[encoded data removed]",
      "text/plain": [
       "<Figure size 640x480 with 12 Axes>"
      ]
     },
     "metadata": {},
     "output_type": "display_data"
    }
   ],
   "source": [
    "imputed_df.iloc[:,:11].hist()\n",
    "plt.tight_layout()\n",
    "plt.show()"
   ]
  },
  {
   "cell_type": "markdown",
   "id": "a1cefd27",
   "metadata": {},
   "source": [
    "Looks like there are some positive outliers in number of rooms, distance, postcode, bedrooms, bathrooms, car(parking spots), landsize and property count, while year built have some negative outliers"
   ]
  },
  {
   "cell_type": "markdown",
   "id": "6a80c4a0",
   "metadata": {},
   "source": [
    "Let's make a violoin plot to have a closer look at the non-dummy features."
   ]
  },
  {
   "cell_type": "code",
   "execution_count": 22,
   "id": "f22e82ce",
   "metadata": {},
   "outputs": [
    {
     "data": {
      "image/png": "[encoded data removed]",
      "text/plain": [
       "<Figure size 2000x800 with 1 Axes>"
      ]
     },
     "metadata": {},
     "output_type": "display_data"
    }
   ],
   "source": [
    "f, ax = plt.subplots(figsize=(20, 8))\n",
    "sns.violinplot(data=imputed_df.iloc[:,:11], palette=\"Set3\", bw=.2, cut=1, linewidth=1, scale='width')\n",
    "plt.show()"
   ]
  },
  {
   "cell_type": "markdown",
   "id": "45a9e8ac",
   "metadata": {},
   "source": [
    "The positive outliers in Landsize are very large.  \n",
    "Let's remove Landsize and Propertycount to better see the distribution of the other features."
   ]
  },
  {
   "cell_type": "code",
   "execution_count": 23,
   "id": "274e6b54",
   "metadata": {},
   "outputs": [
    {
     "data": {
      "text/plain": [
       "Index(['Rooms', 'Distance', 'Postcode', 'Bedrooms', 'Bathroom', 'Car',\n",
       "       'Landsize', 'YearBuilt', 'Lattitude', 'Longtitude', 'Propertycount'],\n",
       "      dtype='object')"
      ]
     },
     "execution_count": 23,
     "metadata": {},
     "output_type": "execute_result"
    }
   ],
   "source": [
    "imputed_df.iloc[:,:11].columns"
   ]
  },
  {
   "cell_type": "code",
   "execution_count": 24,
   "id": "f567facd",
   "metadata": {},
   "outputs": [
    {
     "data": {
      "text/html": [
       "<div>\n",
       "<style scoped>\n",
       "    .dataframe tbody tr th:only-of-type {\n",
       "        vertical-align: middle;\n",
       "    }\n",
       "\n",
       "    .dataframe tbody tr th {\n",
       "        vertical-align: top;\n",
       "    }\n",
       "\n",
       "    .dataframe thead th {\n",
       "        text-align: right;\n",
       "    }\n",
       "</style>\n",
       "<table border=\"1\" class=\"dataframe\">\n",
       "  <thead>\n",
       "    <tr style=\"text-align: right;\">\n",
       "      <th></th>\n",
       "      <th>Rooms</th>\n",
       "      <th>Distance</th>\n",
       "      <th>Postcode</th>\n",
       "      <th>Bedrooms</th>\n",
       "      <th>Bathroom</th>\n",
       "      <th>Car</th>\n",
       "      <th>YearBuilt</th>\n",
       "      <th>Lattitude</th>\n",
       "      <th>Longtitude</th>\n",
       "    </tr>\n",
       "  </thead>\n",
       "  <tbody>\n",
       "    <tr>\n",
       "      <th>0</th>\n",
       "      <td>4.0</td>\n",
       "      <td>6.4</td>\n",
       "      <td>3011.0</td>\n",
       "      <td>3.0</td>\n",
       "      <td>1.0</td>\n",
       "      <td>2.0</td>\n",
       "      <td>1964.764596</td>\n",
       "      <td>-37.79690</td>\n",
       "      <td>144.90490</td>\n",
       "    </tr>\n",
       "    <tr>\n",
       "      <th>1</th>\n",
       "      <td>4.0</td>\n",
       "      <td>14.6</td>\n",
       "      <td>3189.0</td>\n",
       "      <td>4.0</td>\n",
       "      <td>1.0</td>\n",
       "      <td>2.0</td>\n",
       "      <td>1972.000000</td>\n",
       "      <td>-37.93780</td>\n",
       "      <td>145.05700</td>\n",
       "    </tr>\n",
       "    <tr>\n",
       "      <th>2</th>\n",
       "      <td>5.0</td>\n",
       "      <td>12.4</td>\n",
       "      <td>3107.0</td>\n",
       "      <td>5.0</td>\n",
       "      <td>4.0</td>\n",
       "      <td>2.0</td>\n",
       "      <td>1970.000000</td>\n",
       "      <td>-37.77083</td>\n",
       "      <td>145.11516</td>\n",
       "    </tr>\n",
       "    <tr>\n",
       "      <th>3</th>\n",
       "      <td>3.0</td>\n",
       "      <td>5.2</td>\n",
       "      <td>3056.0</td>\n",
       "      <td>3.0</td>\n",
       "      <td>1.0</td>\n",
       "      <td>2.0</td>\n",
       "      <td>1964.764596</td>\n",
       "      <td>-37.76110</td>\n",
       "      <td>144.96440</td>\n",
       "    </tr>\n",
       "    <tr>\n",
       "      <th>4</th>\n",
       "      <td>3.0</td>\n",
       "      <td>8.8</td>\n",
       "      <td>3072.0</td>\n",
       "      <td>3.0</td>\n",
       "      <td>1.0</td>\n",
       "      <td>2.0</td>\n",
       "      <td>1964.764596</td>\n",
       "      <td>-37.75100</td>\n",
       "      <td>145.01970</td>\n",
       "    </tr>\n",
       "    <tr>\n",
       "      <th>...</th>\n",
       "      <td>...</td>\n",
       "      <td>...</td>\n",
       "      <td>...</td>\n",
       "      <td>...</td>\n",
       "      <td>...</td>\n",
       "      <td>...</td>\n",
       "      <td>...</td>\n",
       "      <td>...</td>\n",
       "      <td>...</td>\n",
       "    </tr>\n",
       "    <tr>\n",
       "      <th>11538</th>\n",
       "      <td>3.0</td>\n",
       "      <td>7.7</td>\n",
       "      <td>3124.0</td>\n",
       "      <td>3.0</td>\n",
       "      <td>2.0</td>\n",
       "      <td>2.0</td>\n",
       "      <td>1991.000000</td>\n",
       "      <td>-37.83176</td>\n",
       "      <td>145.06520</td>\n",
       "    </tr>\n",
       "    <tr>\n",
       "      <th>11539</th>\n",
       "      <td>3.0</td>\n",
       "      <td>7.8</td>\n",
       "      <td>3058.0</td>\n",
       "      <td>3.0</td>\n",
       "      <td>1.0</td>\n",
       "      <td>2.0</td>\n",
       "      <td>1990.000000</td>\n",
       "      <td>-37.74620</td>\n",
       "      <td>144.97950</td>\n",
       "    </tr>\n",
       "    <tr>\n",
       "      <th>11540</th>\n",
       "      <td>3.0</td>\n",
       "      <td>11.4</td>\n",
       "      <td>3084.0</td>\n",
       "      <td>3.0</td>\n",
       "      <td>1.0</td>\n",
       "      <td>2.0</td>\n",
       "      <td>1950.000000</td>\n",
       "      <td>-37.72990</td>\n",
       "      <td>145.06560</td>\n",
       "    </tr>\n",
       "    <tr>\n",
       "      <th>11541</th>\n",
       "      <td>2.0</td>\n",
       "      <td>17.3</td>\n",
       "      <td>3193.0</td>\n",
       "      <td>2.0</td>\n",
       "      <td>1.0</td>\n",
       "      <td>1.0</td>\n",
       "      <td>1970.000000</td>\n",
       "      <td>-37.96341</td>\n",
       "      <td>145.01735</td>\n",
       "    </tr>\n",
       "    <tr>\n",
       "      <th>11542</th>\n",
       "      <td>3.0</td>\n",
       "      <td>8.8</td>\n",
       "      <td>3081.0</td>\n",
       "      <td>3.0</td>\n",
       "      <td>1.0</td>\n",
       "      <td>1.0</td>\n",
       "      <td>1960.000000</td>\n",
       "      <td>-37.73736</td>\n",
       "      <td>145.05603</td>\n",
       "    </tr>\n",
       "  </tbody>\n",
       "</table>\n",
       "<p>11543 rows × 9 columns</p>\n",
       "</div>"
      ],
      "text/plain": [
       "       Rooms  Distance  Postcode  Bedrooms  Bathroom  Car    YearBuilt  \\\n",
       "0        4.0       6.4    3011.0       3.0       1.0  2.0  1964.764596   \n",
       "1        4.0      14.6    3189.0       4.0       1.0  2.0  1972.000000   \n",
       "2        5.0      12.4    3107.0       5.0       4.0  2.0  1970.000000   \n",
       "3        3.0       5.2    3056.0       3.0       1.0  2.0  1964.764596   \n",
       "4        3.0       8.8    3072.0       3.0       1.0  2.0  1964.764596   \n",
       "...      ...       ...       ...       ...       ...  ...          ...   \n",
       "11538    3.0       7.7    3124.0       3.0       2.0  2.0  1991.000000   \n",
       "11539    3.0       7.8    3058.0       3.0       1.0  2.0  1990.000000   \n",
       "11540    3.0      11.4    3084.0       3.0       1.0  2.0  1950.000000   \n",
       "11541    2.0      17.3    3193.0       2.0       1.0  1.0  1970.000000   \n",
       "11542    3.0       8.8    3081.0       3.0       1.0  1.0  1960.000000   \n",
       "\n",
       "       Lattitude  Longtitude  \n",
       "0      -37.79690   144.90490  \n",
       "1      -37.93780   145.05700  \n",
       "2      -37.77083   145.11516  \n",
       "3      -37.76110   144.96440  \n",
       "4      -37.75100   145.01970  \n",
       "...          ...         ...  \n",
       "11538  -37.83176   145.06520  \n",
       "11539  -37.74620   144.97950  \n",
       "11540  -37.72990   145.06560  \n",
       "11541  -37.96341   145.01735  \n",
       "11542  -37.73736   145.05603  \n",
       "\n",
       "[11543 rows x 9 columns]"
      ]
     },
     "execution_count": 24,
     "metadata": {},
     "output_type": "execute_result"
    }
   ],
   "source": [
    "imputed_df[['Rooms', 'Distance', 'Postcode', 'Bedrooms', 'Bathroom', 'Car', 'YearBuilt', 'Lattitude', 'Longtitude']]"
   ]
  },
  {
   "cell_type": "code",
   "execution_count": 25,
   "id": "96e2c313",
   "metadata": {},
   "outputs": [
    {
     "data": {
      "image/png": "[encoded data removed]",
      "text/plain": [
       "<Figure size 2000x800 with 1 Axes>"
      ]
     },
     "metadata": {},
     "output_type": "display_data"
    }
   ],
   "source": [
    "violin2_df = imputed_df[['Rooms', 'Distance', 'Postcode', 'Bedrooms', 'Bathroom', 'Car', 'YearBuilt', 'Lattitude', 'Longtitude']]\n",
    "f, ax = plt.subplots(figsize=(20, 8))\n",
    "sns.violinplot(data=violin2_df, palette=\"Set3\", bw=.2, cut=1, linewidth=1, scale='width')\n",
    "plt.show()"
   ]
  },
  {
   "cell_type": "markdown",
   "id": "b6db580d",
   "metadata": {},
   "source": [
    "We see that Postcode have som positive outliers, while YearBuilt have some negative outliers."
   ]
  },
  {
   "cell_type": "markdown",
   "id": "a48f641b",
   "metadata": {},
   "source": [
    "Let's have a look at the correlations in the data next."
   ]
  },
  {
   "cell_type": "code",
   "execution_count": 26,
   "id": "68b7fb2d",
   "metadata": {},
   "outputs": [
    {
     "data": {
      "image/png": "[encoded data removed]",
      "text/plain": [
       "<Figure size 1100x600 with 2 Axes>"
      ]
     },
     "metadata": {},
     "output_type": "display_data"
    }
   ],
   "source": [
    "num_vars = imputed_df.iloc[:,:11].shape[1]\n",
    "correlations = imputed_df.iloc[:,:11].corr()\n",
    "fig, ax = plt.subplots(figsize=(11, 6))\n",
    "cax = ax.matshow(correlations, vmin=-1, vmax=1)\n",
    "fig.colorbar(cax)\n",
    "ticks = np.arange(0, num_vars, 1)\n",
    "ax.set_xticks(ticks)\n",
    "ax.set_yticks(ticks)\n",
    "ax.set_xticklabels(list(imputed_df.iloc[:,:11].columns[:]), rotation=90)\n",
    "ax.set_yticklabels(list(imputed_df.iloc[:,:11].columns[:]))\n",
    "plt.show()"
   ]
  },
  {
   "cell_type": "markdown",
   "id": "963c04d9",
   "metadata": {},
   "source": [
    "The features with the highest positive correlations are number of bedrooms and number of rooms.  \n",
    "We also have some negative correlations in the data. Postcode is negatively correlated with the lattitude, and the lattitude is negatively correlated with longitude as well."
   ]
  },
  {
   "cell_type": "markdown",
   "id": "c340826b",
   "metadata": {},
   "source": [
    "### Data cleaning"
   ]
  },
  {
   "cell_type": "markdown",
   "id": "b79c409d",
   "metadata": {},
   "source": [
    "Removing outliers from landsize using the iqr method."
   ]
  },
  {
   "cell_type": "code",
   "execution_count": 27,
   "id": "d992ae57",
   "metadata": {},
   "outputs": [],
   "source": [
    "def outliers(data):\n",
    "    sorted(data)\n",
    "    Q1,Q3 = np.percentile(data , [25,75])\n",
    "    IQR = Q3 - Q1\n",
    "    lower_range = Q1 - (1.5 * IQR)\n",
    "    upper_range = Q3 + (1.5 * IQR)\n",
    "    return lower_range,upper_range\n",
    "\n",
    "landsize_lowerbound, landsize_upperbound = outliers(imputed_df['Landsize'])"
   ]
  },
  {
   "cell_type": "code",
   "execution_count": 28,
   "id": "5daef475",
   "metadata": {},
   "outputs": [],
   "source": [
    "no_outliers_df = imputed_df.drop(imputed_df[ (imputed_df['Landsize']>landsize_upperbound) | (imputed_df['Landsize']<landsize_lowerbound)].index)"
   ]
  },
  {
   "cell_type": "code",
   "execution_count": 29,
   "id": "cc9e5bd9",
   "metadata": {},
   "outputs": [
    {
     "data": {
      "text/plain": [
       "11543"
      ]
     },
     "execution_count": 29,
     "metadata": {},
     "output_type": "execute_result"
    }
   ],
   "source": [
    "imputed_df.shape[0]"
   ]
  },
  {
   "cell_type": "code",
   "execution_count": 30,
   "id": "da842628",
   "metadata": {},
   "outputs": [
    {
     "name": "stdout",
     "output_type": "stream",
     "text": [
      "Removing outliers resulted in loss of 321 observations.\n"
     ]
    }
   ],
   "source": [
    "print(f'Removing outliers resulted in loss of {imputed_df.shape[0] - no_outliers_df.shape[0]} observations.')"
   ]
  },
  {
   "cell_type": "code",
   "execution_count": 31,
   "id": "6605c8ec",
   "metadata": {},
   "outputs": [
    {
     "name": "stdout",
     "output_type": "stream",
     "text": [
      "Removing outliers resulted in loss of 2.78 % observations.\n"
     ]
    }
   ],
   "source": [
    "print(f'Removing outliers resulted in loss of {(imputed_df.shape[0] - no_outliers_df.shape[0])/imputed_df.shape[0]*100:.2f} % observations.')"
   ]
  },
  {
   "cell_type": "markdown",
   "id": "bb9baee4",
   "metadata": {},
   "source": [
    "In a dataset of over 11500 obervations, losing 321 observations is fine and represents a loss of only 2.78% of the observations."
   ]
  },
  {
   "cell_type": "code",
   "execution_count": 32,
   "id": "f9c7816d",
   "metadata": {},
   "outputs": [
    {
     "data": {
      "text/plain": [
       "76000.0"
      ]
     },
     "execution_count": 32,
     "metadata": {},
     "output_type": "execute_result"
    }
   ],
   "source": [
    "imputed_df['Landsize'].max()"
   ]
  },
  {
   "cell_type": "code",
   "execution_count": 33,
   "id": "eb025b1a",
   "metadata": {},
   "outputs": [
    {
     "data": {
      "text/plain": [
       "1353.0"
      ]
     },
     "execution_count": 33,
     "metadata": {},
     "output_type": "execute_result"
    }
   ],
   "source": [
    "no_outliers_df['Landsize'].max()"
   ]
  },
  {
   "cell_type": "markdown",
   "id": "d310529b",
   "metadata": {},
   "source": [
    "We see that the max value of landsize was extremely high before removing outliers, compared to after removing outliers."
   ]
  },
  {
   "cell_type": "markdown",
   "id": "e06f4976",
   "metadata": {},
   "source": [
    "### Data preprocessing"
   ]
  },
  {
   "cell_type": "markdown",
   "id": "4b590951",
   "metadata": {},
   "source": [
    "#### Train test split"
   ]
  },
  {
   "cell_type": "code",
   "execution_count": 86,
   "id": "35096296",
   "metadata": {},
   "outputs": [],
   "source": [
    "X = no_outliers_df.iloc[:, :-1].to_numpy()\n",
    "y = no_outliers_df.iloc[:, -1].to_numpy()"
   ]
  },
  {
   "cell_type": "code",
   "execution_count": 87,
   "id": "c8991cc3",
   "metadata": {},
   "outputs": [],
   "source": [
    "X_train, X_test, y_train, y_test = train_test_split(X, y, test_size=0.2, random_state=123)"
   ]
  },
  {
   "cell_type": "markdown",
   "id": "15bb8b40",
   "metadata": {},
   "source": [
    "#### Scaling"
   ]
  },
  {
   "cell_type": "code",
   "execution_count": 88,
   "id": "4bc30bf8",
   "metadata": {},
   "outputs": [
    {
     "name": "stdout",
     "output_type": "stream",
     "text": [
      "The mean of the features are: \n",
      "\n",
      "[ 2.95287958e+00  1.01868664e+01  3.10475682e+03  2.93015484e+00\n",
      "  1.53111340e+00  1.61574929e+00  4.16495400e+02  1.96446271e+03\n",
      " -3.78090089e+01  1.44995617e+02  7.43402079e+03  7.07697449e-01\n",
      "  8.33240504e-02  2.08978501e-01  1.16854183e-01  6.64810070e-01\n",
      "  7.90910104e-03  1.22423972e-01  8.80026735e-02  1.09724852e-01\n",
      "  3.56466526e-03  2.86398574e-01  2.67349894e-03  3.31959452e-02\n",
      "  3.44881363e-01  2.16553414e-01  3.00768631e-03]\n",
      "\n",
      "####################\n",
      "\n",
      "The standard deviation of the features are: \n",
      "\n",
      "[9.42189273e-01 5.73659556e+00 8.89844803e+01 9.60580236e-01\n",
      " 6.81749865e-01 9.53321953e-01 2.87159028e+02 2.91468895e+01\n",
      " 7.87315967e-02 1.04001797e-01 4.35032038e+03 4.54820591e-01\n",
      " 2.76371404e-01 4.06579004e-01 3.21246452e-01 4.72056819e-01\n",
      " 8.85807381e-02 3.27774836e-01 2.83298787e-01 3.12546491e-01\n",
      " 5.95983088e-02 4.52077904e-01 5.16367248e-02 1.79147912e-01\n",
      " 4.75329579e-01 4.11895658e-01 5.47598405e-02]\n"
     ]
    }
   ],
   "source": [
    "print('The mean of the features are: \\n')\n",
    "print(np.mean(X_train, axis=0))\n",
    "print('\\n####################\\n')\n",
    "print('The standard deviation of the features are: \\n')\n",
    "print(np.std(X_train, axis=0))"
   ]
  },
  {
   "cell_type": "markdown",
   "id": "f0192950",
   "metadata": {},
   "source": [
    "We observe that the mean is practically 0 in the features, but the standard deviation is not close to 1, so the data does not have a standard normal distribution. Let's scale the data."
   ]
  },
  {
   "cell_type": "code",
   "execution_count": 89,
   "id": "0f8531f3",
   "metadata": {},
   "outputs": [],
   "source": [
    "sc = StandardScaler()\n",
    "sc.fit(X_train)\n",
    "X_train_scaled = sc.transform(X_train)\n",
    "X_test_scaled = sc.transform(X_test)"
   ]
  },
  {
   "cell_type": "code",
   "execution_count": 90,
   "id": "f2c73c00",
   "metadata": {},
   "outputs": [
    {
     "name": "stdout",
     "output_type": "stream",
     "text": [
      "[ 4.10746654e-16  2.83199441e-14  1.76298766e-15 -2.12224876e-17\n",
      " -1.44354965e-15  2.42582556e-15 -5.32052463e-16 -1.37927037e-12\n",
      " -6.27666621e-13 -2.13719170e-12 -5.56978992e-16 -4.66251621e-16\n",
      " -9.39428996e-17 -1.03002033e-15 -5.16055209e-16  6.08081159e-16\n",
      " -9.97110629e-16 -1.41785016e-15  3.63453651e-16 -1.56230159e-15\n",
      " -5.00548014e-16  8.27503872e-16 -3.90157996e-16 -3.12376219e-16\n",
      "  6.49635680e-16 -1.07260134e-15  6.15274358e-16]\n",
      "[1. 1. 1. 1. 1. 1. 1. 1. 1. 1. 1. 1. 1. 1. 1. 1. 1. 1. 1. 1. 1. 1. 1. 1.\n",
      " 1. 1. 1.]\n"
     ]
    }
   ],
   "source": [
    "print(np.mean(X_train_scaled, axis=0))\n",
    "print(np.std(X_train_scaled, axis=0))"
   ]
  },
  {
   "cell_type": "markdown",
   "id": "19054914",
   "metadata": {},
   "source": [
    "We now observe that the mean is practically 0 and the standard deviation is 1, so we now have a standard normal distribution."
   ]
  },
  {
   "cell_type": "markdown",
   "id": "98f95ffa",
   "metadata": {},
   "source": [
    "### Modelling"
   ]
  },
  {
   "cell_type": "markdown",
   "id": "24dbe467",
   "metadata": {},
   "source": [
    "Let's first have a look at the principal components."
   ]
  },
  {
   "cell_type": "code",
   "execution_count": 91,
   "id": "25e29ea2",
   "metadata": {},
   "outputs": [
    {
     "data": {
      "image/png": "[encoded data removed]",
      "text/plain": [
       "<Figure size 640x480 with 1 Axes>"
      ]
     },
     "metadata": {},
     "output_type": "display_data"
    }
   ],
   "source": [
    "ncomp = 27\n",
    "pca = PCA(n_components=ncomp)\n",
    "X_train_pca = pca.fit_transform(X_train_scaled)\n",
    "plt.bar(range(1, ncomp+1), pca.explained_variance_ratio_, alpha=0.5, align='center')\n",
    "plt.step(range(1, ncomp+1), np.cumsum(pca.explained_variance_ratio_), where='mid')\n",
    "plt.ylabel('Explained variance ratio')\n",
    "plt.xlabel('Principal components')\n",
    "plt.show()"
   ]
  },
  {
   "cell_type": "markdown",
   "id": "6dffadb1",
   "metadata": {},
   "source": [
    "At 20 principal components it looks like we have explianed about 90% of the variance, and 25 PCs explain 100% of the variance."
   ]
  },
  {
   "cell_type": "markdown",
   "id": "2bdbb732",
   "metadata": {},
   "source": [
    "For training the models, we will make a pipeline consiting of PCA and a classifier.  \n",
    "To optimizing number of PCs and settings in the classifier we will use gridsearch, with 5 folds, to explore some parameterspace for o\n",
    "We will use macro f1 score as the parameter to optimize the training."
   ]
  },
  {
   "cell_type": "markdown",
   "id": "2cda4d57",
   "metadata": {},
   "source": [
    "#### Logistic regression"
   ]
  },
  {
   "cell_type": "markdown",
   "id": "8648d672",
   "metadata": {},
   "source": [
    "Let's make some pipelines with different classification models."
   ]
  },
  {
   "cell_type": "code",
   "execution_count": 92,
   "id": "43bf38d0",
   "metadata": {},
   "outputs": [
    {
     "name": "stdout",
     "output_type": "stream",
     "text": [
      "Fitting 5 folds for each of 260 candidates, totalling 1300 fits\n",
      "{'logisticregression__C': 100, 'logisticregression__penalty': 'l2', 'pca__n_components': 25}\n",
      "0.7184460672678871\n"
     ]
    }
   ],
   "source": [
    "param_grid = {\n",
    "    'pca__n_components': [5, 10, 15, 20, 25],\n",
    "    'logisticregression__penalty': [None, 'l1', 'l2', 'elastic'],\n",
    "    'logisticregression__C': [0.1, 0.5, 1, 1.5, 2, 4, 6, 8, 10, 20, 50, 100, 200],\n",
    "}\n",
    "\n",
    "pipe_lr = make_pipeline(PCA(n_components=20), # Compression using PCA\n",
    "                         LogisticRegression()) # Fit logistic regresion classifier\n",
    "\n",
    "\n",
    "grid_lr = GridSearchCV(pipe_lr, param_grid, cv=5, n_jobs=-1, verbose=1, scoring=\"f1_macro\")\n",
    "\n",
    "grid_lr.fit(X_train_scaled, y_train)\n",
    "\n",
    "print(grid_lr.best_params_)\n",
    "print(grid_lr.best_score_)\n",
    "\n",
    "best_lr = grid_lr.best_estimator_"
   ]
  },
  {
   "cell_type": "markdown",
   "id": "9e022d2b",
   "metadata": {},
   "source": [
    "#### K-nearest neighbor"
   ]
  },
  {
   "cell_type": "code",
   "execution_count": 93,
   "id": "ce21b7bf",
   "metadata": {},
   "outputs": [
    {
     "name": "stdout",
     "output_type": "stream",
     "text": [
      "Fitting 5 folds for each of 72 candidates, totalling 360 fits\n",
      "{'kneighborsclassifier__metric': 'minkowski', 'kneighborsclassifier__n_neighbors': 4, 'kneighborsclassifier__weights': 'distance', 'pca__n_components': 25}\n",
      "0.6927441525679139\n"
     ]
    }
   ],
   "source": [
    "param_grid = {\n",
    "    'pca__n_components': [15, 20, 25],\n",
    "    'kneighborsclassifier__n_neighbors': [1, 2, 3, 4, 5, 10],\n",
    "    'kneighborsclassifier__weights': ['uniform', 'distance'],\n",
    "    'kneighborsclassifier__metric': ['minkowski', 'chebyshev'],\n",
    "}\n",
    "\n",
    "pipe_knn = make_pipeline(PCA(n_components=20), # Compression using PCA\n",
    "                         KNeighborsClassifier()) # Fit knn classifier\n",
    "\n",
    "\n",
    "grid_knn = GridSearchCV(pipe_knn, param_grid, cv=5, n_jobs=-1, verbose=1, scoring=\"f1_macro\")\n",
    "\n",
    "grid_knn.fit(X_train_scaled, y_train)\n",
    "\n",
    "print(grid_knn.best_params_)\n",
    "print(grid_knn.best_score_)\n",
    "\n",
    "best_knn = grid_knn.best_estimator_"
   ]
  },
  {
   "cell_type": "markdown",
   "id": "012c4e67",
   "metadata": {},
   "source": [
    "#### Decision tree"
   ]
  },
  {
   "cell_type": "code",
   "execution_count": 94,
   "id": "bdc738f2",
   "metadata": {},
   "outputs": [
    {
     "name": "stdout",
     "output_type": "stream",
     "text": [
      "Fitting 5 folds for each of 36 candidates, totalling 180 fits\n",
      "{'decisiontreeclassifier__criterion': 'entropy', 'decisiontreeclassifier__max_depth': 10, 'pca__n_components': 25}\n",
      "0.7114641018327642\n"
     ]
    }
   ],
   "source": [
    "param_grid = {\n",
    "    'pca__n_components': [15, 20, 25],\n",
    "    'decisiontreeclassifier__criterion':['gini', 'entropy'],\n",
    "    'decisiontreeclassifier__max_depth': [2, 4, 6, 8, 10, 12],\n",
    "}\n",
    "\n",
    "pipe_dt = make_pipeline(PCA(), # Compression using PCA\n",
    "                        DecisionTreeClassifier()) # Fit decision tree classifier\n",
    "\n",
    "\n",
    "grid_dt = GridSearchCV(pipe_dt, param_grid, cv=5, n_jobs=-1, verbose=1, scoring=\"f1_macro\")\n",
    "\n",
    "grid_dt.fit(X_train_scaled, y_train)\n",
    "\n",
    "print(grid_dt.best_params_)\n",
    "print(grid_dt.best_score_)\n",
    "\n",
    "best_knn = grid_dt.best_estimator_"
   ]
  },
  {
   "cell_type": "markdown",
   "id": "a01ba22b",
   "metadata": {},
   "source": [
    "#### Random forest"
   ]
  },
  {
   "cell_type": "code",
   "execution_count": 95,
   "id": "096c6793",
   "metadata": {
    "scrolled": true
   },
   "outputs": [
    {
     "name": "stdout",
     "output_type": "stream",
     "text": [
      "Fitting 5 folds for each of 144 candidates, totalling 720 fits\n",
      "{'pca__n_components': 25, 'randomforestclassifier__criterion': 'entropy', 'randomforestclassifier__max_depth': 12, 'randomforestclassifier__n_estimators': 500}\n",
      "0.7319572428467624\n"
     ]
    }
   ],
   "source": [
    "param_grid = {\n",
    "    'pca__n_components': [15, 20, 25],\n",
    "    'randomforestclassifier__n_estimators': [10, 100, 200, 500],\n",
    "    'randomforestclassifier__criterion': ['gini', 'entropy'],\n",
    "    'randomforestclassifier__max_depth': [2, 4, 6, 8, 10, 12],\n",
    "}\n",
    "\n",
    "pipe_rf = make_pipeline(PCA(), # Compression using PCA\n",
    "                        RandomForestClassifier()) # Fit random forest classifier\n",
    "\n",
    "\n",
    "grid_rf = GridSearchCV(pipe_rf, param_grid, cv=5, n_jobs=-1, verbose=1, scoring=\"f1_macro\")\n",
    "\n",
    "grid_rf.fit(X_train_scaled, y_train)\n",
    "\n",
    "print(grid_rf.best_params_)\n",
    "print(grid_rf.best_score_)\n",
    "\n",
    "best_rf = grid_rf.best_estimator_"
   ]
  },
  {
   "cell_type": "markdown",
   "id": "a49c2b2f",
   "metadata": {},
   "source": [
    "#### Support vector classifier"
   ]
  },
  {
   "cell_type": "code",
   "execution_count": 96,
   "id": "190f8ee0",
   "metadata": {},
   "outputs": [
    {
     "name": "stdout",
     "output_type": "stream",
     "text": [
      "Fitting 5 folds for each of 54 candidates, totalling 270 fits\n",
      "{'pca__n_components': 25, 'svc__C': 10, 'svc__gamma': 0.1, 'svc__kernel': 'rbf'}\n",
      "0.7541258897908948\n"
     ]
    }
   ],
   "source": [
    "param_grid = {\n",
    "    'pca__n_components': [15, 20, 25],\n",
    "    'svc__kernel':['linear', 'rbf'],\n",
    "    'svc__C': [1, 10, 100],\n",
    "    'svc__gamma': [1, 0.1, 0.001]\n",
    "}\n",
    "\n",
    "pipe_svc = make_pipeline(PCA(), # Compression using PCA\n",
    "                        SVC()) # Fit support vector classifier\n",
    "\n",
    "\n",
    "grid_svc = GridSearchCV(pipe_svc, param_grid, cv=5, n_jobs=-1, verbose=1, scoring=\"f1_macro\")\n",
    "\n",
    "grid_svc.fit(X_train_scaled, y_train)\n",
    "\n",
    "print(grid_svc.best_params_)\n",
    "print(grid_svc.best_score_)\n",
    "\n",
    "best_svc = grid_svc.best_estimator_"
   ]
  },
  {
   "cell_type": "markdown",
   "id": "4b0006fb",
   "metadata": {},
   "source": [
    "We see that the classifier that performed the best in terms of macro f1 is support vector classifier, with a macro f1 score of 0.75.  \n",
    "Let's try to make a pipeline with random forest using kernel PCA, which will allow us to do PCA on nonlinear data, and see if we can get a higher f1 score. We will also try to increase the depth of the trees and the number of trees in the forest."
   ]
  },
  {
   "cell_type": "markdown",
   "id": "18531836",
   "metadata": {},
   "source": [
    "#### Random forest classifier with kernel PCA"
   ]
  },
  {
   "cell_type": "code",
   "execution_count": 38,
   "id": "20867fb9",
   "metadata": {},
   "outputs": [
    {
     "name": "stdout",
     "output_type": "stream",
     "text": [
      "Fitting 5 folds for each of 72 candidates, totalling 360 fits\n",
      "{'kernelpca__kernel': 'poly', 'kernelpca__n_components': 20, 'randomforestclassifier__criterion': 'entropy', 'randomforestclassifier__max_depth': 20, 'randomforestclassifier__n_estimators': 500}\n",
      "0.7322044123152935\n"
     ]
    }
   ],
   "source": [
    "param_grid = {\n",
    "    'kernelpca__n_components': [20, 25],\n",
    "    'kernelpca__kernel': ['poly', 'rbf'],\n",
    "    'randomforestclassifier__n_estimators': [100, 500, 1000],\n",
    "    'randomforestclassifier__criterion': ['gini', 'entropy'],\n",
    "    'randomforestclassifier__max_depth': [10, 15, 20],\n",
    "}\n",
    "\n",
    "pipe_kernelrf = make_pipeline(KernelPCA(), # Compression using kernel PCA\n",
    "                        RandomForestClassifier()) # Fit support vector classifier\n",
    "\n",
    "\n",
    "grid_kernelrf = GridSearchCV(pipe_kernelrf, param_grid, cv=5, n_jobs=-1, verbose=1, scoring=\"f1_macro\")\n",
    "\n",
    "grid_kernelrf.fit(X_train_scaled, y_train)\n",
    "\n",
    "print(grid_kernelrf.best_params_)\n",
    "print(grid_kernelrf.best_score_)\n",
    "\n",
    "best_kernelrf = grid_kernelrf.best_estimator_"
   ]
  },
  {
   "cell_type": "markdown",
   "id": "3229d16d",
   "metadata": {},
   "source": [
    "Training the random forest classifer using kernel PCA lead to an incremental increase in macro f1 score, compared to random forest together with linear pca. Increasing the depth of the trees and the number of trees did not provide better results. "
   ]
  },
  {
   "cell_type": "markdown",
   "id": "6026d245",
   "metadata": {},
   "source": [
    "Thus, our best performing model is support vector classifier using linear PCA.  \n",
    "The set of parameters that got the best performance out of the PCA and SVC pipeline was:  \n",
    "Number of PCs: 25,  \n",
    "Regularization: 10,  \n",
    "Kernel: rbf,  \n",
    "\n",
    "These parameters gave us a macro f1 score of:  \n",
    "0.7541"
   ]
  },
  {
   "cell_type": "markdown",
   "id": "333bd2bc",
   "metadata": {},
   "source": [
    "#### Cofusion matrix"
   ]
  },
  {
   "cell_type": "markdown",
   "id": "198c79b0",
   "metadata": {},
   "source": [
    "Let's use K-fold cross-validation to make a confusion matrix for the support vector classifier using the optimal parameters."
   ]
  },
  {
   "cell_type": "code",
   "execution_count": 40,
   "id": "a9e5e005",
   "metadata": {},
   "outputs": [],
   "source": [
    "# We use 5 folds, fit a model and make a prediction for each fold\n",
    "kfold = KFold(n_splits=5)\n",
    "\n",
    "predicted_targets = np.array([]) # Array for predictions\n",
    "actual_targets = np.array([]) # Array for true y values\n",
    "\n",
    "pipe_svc = make_pipeline(PCA(n_components=25), SVC(C=10, gamma=0.1, kernel='rbf'))\n",
    "\n",
    "\n",
    "for i in kfold.split(no_outliers_df):\n",
    "    X_train, X_test, y_train, y_test = train_test_split(X_train, y_train)\n",
    "    pipe_svc.fit(X_train, y_train)\n",
    "    y_pred = pipe_svc.predict(X_test)\n",
    "    predicted_targets= np.append(predicted_targets, y_pred)\n",
    "    actual_targets = np.append(actual_targets, y_test)"
   ]
  },
  {
   "cell_type": "code",
   "execution_count": 43,
   "id": "4c96ce4e",
   "metadata": {},
   "outputs": [
    {
     "data": {
      "image/png": "[encoded data removed]",
      "text/plain": [
       "<Figure size 250x250 with 1 Axes>"
      ]
     },
     "metadata": {},
     "output_type": "display_data"
    }
   ],
   "source": [
    "# Make confusion matrix\n",
    "confmat = confusion_matrix(y_true=actual_targets, y_pred=predicted_targets)\n",
    "\n",
    "# Make the plot\n",
    "fig, ax = plt.subplots(figsize=(2.5, 2.5))\n",
    "ax.matshow(confmat, cmap=plt.cm.Blues, alpha=0.3)\n",
    "for i in range(confmat.shape[0]):\n",
    "    for j in range(confmat.shape[1]):\n",
    "        ax.text(x=j, y=i, s=confmat[i, j], va='center', ha='center')\n",
    "\n",
    "plt.xlabel('Predicted label')\n",
    "plt.ylabel('True label')\n",
    "\n",
    "plt.tight_layout()\n",
    "plt.show()"
   ]
  },
  {
   "cell_type": "markdown",
   "id": "db22693d",
   "metadata": {},
   "source": [
    "From the confusion matrix we see that we predict a lot of prices to belong to class 0, while they actually belong to class 1. We have also wronly predicted a lot of the observations belonging in class 2 as belonging in class 0.  \n",
    "Roughly we have misclassified at least 1/3 of the observations.  \n",
    "This has given us reason to believe that we lost some important information when cleaning the data."
   ]
  },
  {
   "cell_type": "markdown",
   "id": "1613ea05",
   "metadata": {},
   "source": [
    "Let's retrain the models using the imputed_df dataset, where the outliers are still in the dataset, and see if we can get better results."
   ]
  },
  {
   "cell_type": "markdown",
   "id": "581a817c",
   "metadata": {},
   "source": [
    "#### Train test split"
   ]
  },
  {
   "cell_type": "code",
   "execution_count": 97,
   "id": "1ab49ee3",
   "metadata": {},
   "outputs": [],
   "source": [
    "X = imputed_df.iloc[:, :-1].to_numpy()\n",
    "y = imputed_df.iloc[:, -1].to_numpy()"
   ]
  },
  {
   "cell_type": "code",
   "execution_count": 98,
   "id": "8d1e5130",
   "metadata": {},
   "outputs": [],
   "source": [
    "X_train, X_test, y_train, y_test = train_test_split(X, y, test_size=0.2, random_state=123)"
   ]
  },
  {
   "cell_type": "markdown",
   "id": "ad938732",
   "metadata": {},
   "source": [
    "#### Scaling"
   ]
  },
  {
   "cell_type": "code",
   "execution_count": 99,
   "id": "637d078b",
   "metadata": {},
   "outputs": [
    {
     "name": "stdout",
     "output_type": "stream",
     "text": [
      "The mean of the features are: \n",
      "\n",
      "[ 2.94628547e+00  1.01073966e+01  3.10530117e+03  2.92473468e+00\n",
      "  1.53603362e+00  1.61683024e+00  5.20521315e+02  1.96463176e+03\n",
      " -3.78094426e+01  1.44994198e+02  7.43009970e+03  6.94390297e-01\n",
      "  8.21962313e-02  2.23413472e-01  1.17825428e-01  6.62226554e-01\n",
      "  7.25579381e-03  1.24214858e-01  8.84773663e-02  1.05371453e-01\n",
      "  3.68204462e-03  2.86224821e-01  2.81568118e-03  3.16222655e-02\n",
      "  3.48061512e-01  2.19623132e-01  2.59909032e-03]\n",
      "\n",
      "####################\n",
      "\n",
      "The standard deviation of the features are: \n",
      "\n",
      "[9.52827012e-01 5.81705912e+00 9.04022821e+01 9.51993144e-01\n",
      " 6.91215018e-01 9.49933212e-01 1.35836218e+03 2.93213912e+01\n",
      " 7.90669941e-02 1.03386908e-01 4.33238629e+03 4.60665185e-01\n",
      " 2.74663450e-01 4.16533183e-01 3.22401297e-01 4.72950891e-01\n",
      " 8.48713571e-02 3.29826511e-01 2.83987890e-01 3.07031448e-01\n",
      " 6.05680375e-02 4.51995767e-01 5.29882357e-02 1.74992279e-01\n",
      " 4.76355640e-01 4.13991319e-01 5.09149786e-02]\n"
     ]
    }
   ],
   "source": [
    "print('The mean of the features are: \\n')\n",
    "print(np.mean(X_train, axis=0))\n",
    "print('\\n####################\\n')\n",
    "print('The standard deviation of the features are: \\n')\n",
    "print(np.std(X_train, axis=0))"
   ]
  },
  {
   "cell_type": "markdown",
   "id": "254cc5d4",
   "metadata": {},
   "source": [
    "We need to scale the data."
   ]
  },
  {
   "cell_type": "code",
   "execution_count": 100,
   "id": "e3f58541",
   "metadata": {},
   "outputs": [],
   "source": [
    "sc = StandardScaler()\n",
    "sc.fit(X_train)\n",
    "X_train_scaled = sc.transform(X_train)\n",
    "X_test_scaled = sc.transform(X_test)"
   ]
  },
  {
   "cell_type": "code",
   "execution_count": 101,
   "id": "5941a113",
   "metadata": {},
   "outputs": [
    {
     "name": "stdout",
     "output_type": "stream",
     "text": [
      "[-1.15345848e-15  2.76084085e-14 -1.81537215e-15  4.00661383e-16\n",
      " -1.30091110e-16  1.33048819e-15 -1.55536351e-16 -6.30432517e-13\n",
      "  1.39006232e-12 -1.11810902e-12 -1.58647601e-15 -7.47025958e-16\n",
      " -7.51258127e-16  3.43190449e-16  3.03694210e-16  8.85389035e-17\n",
      " -5.44978954e-16  3.83720683e-16 -2.54050385e-16 -7.88842675e-17\n",
      "  8.27196709e-16  7.39836080e-16  3.55345912e-16  7.57504184e-16\n",
      " -8.64949582e-17  3.12050340e-16  1.21033126e-16]\n",
      "[1. 1. 1. 1. 1. 1. 1. 1. 1. 1. 1. 1. 1. 1. 1. 1. 1. 1. 1. 1. 1. 1. 1. 1.\n",
      " 1. 1. 1.]\n"
     ]
    }
   ],
   "source": [
    "print(np.mean(X_train_scaled, axis=0))\n",
    "print(np.std(X_train_scaled, axis=0))"
   ]
  },
  {
   "cell_type": "markdown",
   "id": "a2995215",
   "metadata": {},
   "source": [
    "### Modelling"
   ]
  },
  {
   "cell_type": "code",
   "execution_count": 43,
   "id": "b7bd7d10",
   "metadata": {},
   "outputs": [
    {
     "data": {
      "image/png": "[encoded data removed]",
      "text/plain": [
       "<Figure size 640x480 with 1 Axes>"
      ]
     },
     "metadata": {},
     "output_type": "display_data"
    }
   ],
   "source": [
    "ncomp = 27\n",
    "pca = PCA(n_components=ncomp)\n",
    "X_train_pca = pca.fit_transform(X_train_scaled)\n",
    "plt.bar(range(1, ncomp+1), pca.explained_variance_ratio_, alpha=0.5, align='center')\n",
    "plt.step(range(1, ncomp+1), np.cumsum(pca.explained_variance_ratio_), where='mid')\n",
    "plt.ylabel('Explained variance ratio')\n",
    "plt.xlabel('Principal components')\n",
    "plt.show()"
   ]
  },
  {
   "cell_type": "markdown",
   "id": "7bad6a4a",
   "metadata": {},
   "source": [
    "#### Logistic regression"
   ]
  },
  {
   "cell_type": "code",
   "execution_count": 102,
   "id": "b3bd67ed",
   "metadata": {},
   "outputs": [
    {
     "name": "stdout",
     "output_type": "stream",
     "text": [
      "Fitting 5 folds for each of 60 candidates, totalling 300 fits\n",
      "{'logisticregression__C': 200, 'logisticregression__penalty': 'l2', 'pca__n_components': 20}\n",
      "0.8101586655412044\n"
     ]
    }
   ],
   "source": [
    "param_grid = {\n",
    "    'pca__n_components': [15, 20, 25],\n",
    "    'logisticregression__penalty': [None, 'l1', 'l2', 'elastic'],\n",
    "    'logisticregression__C': [1, 10, 50, 100, 200],\n",
    "}\n",
    "\n",
    "pipe_lr = make_pipeline(PCA(), # Compression using PCA\n",
    "                         LogisticRegression()) # Fit logistic regresion classifier\n",
    "\n",
    "\n",
    "grid_lr = GridSearchCV(pipe_lr, param_grid, cv=5, n_jobs=-1, verbose=1, scoring=\"accuracy\")\n",
    "\n",
    "grid_lr.fit(X_train_scaled, y_train)\n",
    "\n",
    "print(grid_lr.best_params_)\n",
    "print(grid_lr.best_score_)\n",
    "\n",
    "best_lr = grid_lr.best_estimator_"
   ]
  },
  {
   "cell_type": "markdown",
   "id": "fa35267e",
   "metadata": {},
   "source": [
    "#### Support vector classifier"
   ]
  },
  {
   "cell_type": "code",
   "execution_count": 107,
   "id": "879721b8",
   "metadata": {},
   "outputs": [
    {
     "name": "stdout",
     "output_type": "stream",
     "text": [
      "Fitting 5 folds for each of 54 candidates, totalling 270 fits\n",
      "{'pca__n_components': 15, 'svc__C': 100, 'svc__gamma': 0.1, 'svc__kernel': 'rbf'}\n",
      "0.7411941396098074\n"
     ]
    }
   ],
   "source": [
    "param_grid = {\n",
    "    'pca__n_components': [15, 20, 25],\n",
    "    'svc__kernel':['linear', 'rbf'],\n",
    "    'svc__C': [1, 10, 100],\n",
    "    'svc__gamma': [1, 0.1, 0.001]\n",
    "}\n",
    "\n",
    "pipe_svc = make_pipeline(PCA(), # Compression using PCA\n",
    "                        SVC()) # Fit support vector classifier\n",
    "\n",
    "\n",
    "grid_svc = GridSearchCV(pipe_svc, param_grid, cv=5, n_jobs=-1, verbose=1, scoring=\"f1_macro\")\n",
    "\n",
    "grid_svc.fit(X_train_scaled, y_train)\n",
    "\n",
    "print(grid_svc.best_params_)\n",
    "print(grid_svc.best_score_)\n",
    "\n",
    "best_svc = grid_svc.best_estimator_"
   ]
  },
  {
   "cell_type": "markdown",
   "id": "2398f2cd",
   "metadata": {},
   "source": [
    "#### K-nearest neighbor"
   ]
  },
  {
   "cell_type": "code",
   "execution_count": 104,
   "id": "a98a2712",
   "metadata": {},
   "outputs": [
    {
     "name": "stdout",
     "output_type": "stream",
     "text": [
      "Fitting 5 folds for each of 72 candidates, totalling 360 fits\n",
      "{'kneighborsclassifier__metric': 'minkowski', 'kneighborsclassifier__n_neighbors': 10, 'kneighborsclassifier__weights': 'distance', 'pca__n_components': 15}\n",
      "0.8085334714546912\n"
     ]
    }
   ],
   "source": [
    "param_grid = {\n",
    "    'pca__n_components': [15, 20, 25],\n",
    "    'kneighborsclassifier__n_neighbors': [1, 2, 3, 4, 5, 10],\n",
    "    'kneighborsclassifier__weights': ['uniform', 'distance'],\n",
    "    'kneighborsclassifier__metric': ['minkowski', 'chebyshev'],\n",
    "}\n",
    "\n",
    "pipe_knn = make_pipeline(PCA(n_components=20), # Compression using PCA\n",
    "                         KNeighborsClassifier()) # Fit knn classifier\n",
    "\n",
    "\n",
    "grid_knn = GridSearchCV(pipe_knn, param_grid, cv=5, n_jobs=-1, verbose=1, scoring=\"accuracy\")\n",
    "\n",
    "grid_knn.fit(X_train_scaled, y_train)\n",
    "\n",
    "print(grid_knn.best_params_)\n",
    "print(grid_knn.best_score_)\n",
    "\n",
    "best_knn = grid_knn.best_estimator_"
   ]
  },
  {
   "cell_type": "markdown",
   "id": "c566698f",
   "metadata": {},
   "source": [
    "#### Decision tree"
   ]
  },
  {
   "cell_type": "code",
   "execution_count": 105,
   "id": "2b9b9291",
   "metadata": {},
   "outputs": [
    {
     "name": "stdout",
     "output_type": "stream",
     "text": [
      "Fitting 5 folds for each of 36 candidates, totalling 180 fits\n",
      "{'decisiontreeclassifier__criterion': 'gini', 'decisiontreeclassifier__max_depth': 8, 'pca__n_components': 25}\n",
      "0.7890385333951986\n"
     ]
    }
   ],
   "source": [
    "param_grid = {\n",
    "    'pca__n_components': [15, 20, 25],\n",
    "    'decisiontreeclassifier__criterion':['gini', 'entropy'],\n",
    "    'decisiontreeclassifier__max_depth': [2, 4, 6, 8, 10, 12],\n",
    "}\n",
    "\n",
    "pipe_dt = make_pipeline(PCA(), # Compression using PCA\n",
    "                        DecisionTreeClassifier()) # Fit decision tree classifier\n",
    "\n",
    "\n",
    "grid_dt = GridSearchCV(pipe_dt, param_grid, cv=5, n_jobs=-1, verbose=1, scoring=\"accuracy\")\n",
    "\n",
    "grid_dt.fit(X_train_scaled, y_train)\n",
    "\n",
    "print(grid_dt.best_params_)\n",
    "print(grid_dt.best_score_)\n",
    "\n",
    "best_knn = grid_dt.best_estimator_"
   ]
  },
  {
   "cell_type": "markdown",
   "id": "36458502",
   "metadata": {},
   "source": [
    "#### Random forest"
   ]
  },
  {
   "cell_type": "code",
   "execution_count": 106,
   "id": "024990ca",
   "metadata": {},
   "outputs": [
    {
     "name": "stdout",
     "output_type": "stream",
     "text": [
      "Fitting 5 folds for each of 144 candidates, totalling 720 fits\n",
      "{'pca__n_components': 25, 'randomforestclassifier__criterion': 'entropy', 'randomforestclassifier__max_depth': 12, 'randomforestclassifier__n_estimators': 200}\n",
      "0.8353899415819391\n"
     ]
    }
   ],
   "source": [
    "param_grid = {\n",
    "    'pca__n_components': [15, 20, 25],\n",
    "    'randomforestclassifier__n_estimators': [10, 100, 200, 500],\n",
    "    'randomforestclassifier__criterion': ['gini', 'entropy'],\n",
    "    'randomforestclassifier__max_depth': [2, 4, 6, 8, 10, 12],\n",
    "}\n",
    "\n",
    "pipe_rf = make_pipeline(PCA(), # Compression using PCA\n",
    "                        RandomForestClassifier()) # Fit random forest classifier\n",
    "\n",
    "\n",
    "grid_rf = GridSearchCV(pipe_rf, param_grid, cv=5, n_jobs=-1, verbose=1, scoring=\"accuracy\")\n",
    "\n",
    "grid_rf.fit(X_train_scaled, y_train)\n",
    "\n",
    "print(grid_rf.best_params_)\n",
    "print(grid_rf.best_score_)\n",
    "\n",
    "best_rf = grid_rf.best_estimator_"
   ]
  },
  {
   "cell_type": "markdown",
   "id": "5de4121c",
   "metadata": {},
   "source": [
    "Looks like the macro f1 score is decreasing for all models when using the dataset containing the outliers. Let's have a look at a confusion matrix to see what's going on."
   ]
  },
  {
   "cell_type": "code",
   "execution_count": 48,
   "id": "0f669a6b",
   "metadata": {},
   "outputs": [
    {
     "data": {
      "image/png": "[encoded data removed]",
      "text/plain": [
       "<Figure size 250x250 with 1 Axes>"
      ]
     },
     "metadata": {},
     "output_type": "display_data"
    }
   ],
   "source": [
    "# Make confusion matrix\n",
    "confmat = confusion_matrix(y_true=actual_targets, y_pred=predicted_targets)\n",
    "\n",
    "# Make the plot\n",
    "fig, ax = plt.subplots(figsize=(2.5, 2.5))\n",
    "ax.matshow(confmat, cmap=plt.cm.Blues, alpha=0.3)\n",
    "for i in range(confmat.shape[0]):\n",
    "    for j in range(confmat.shape[1]):\n",
    "        ax.text(x=j, y=i, s=confmat[i, j], va='center', ha='center')\n",
    "\n",
    "plt.xlabel('Predicted label')\n",
    "plt.ylabel('True label')\n",
    "\n",
    "plt.tight_layout()\n",
    "plt.show()"
   ]
  },
  {
   "cell_type": "markdown",
   "id": "a1def9db",
   "metadata": {},
   "source": [
    "From the confusion matrix we see that we make less errors when using the dataset containing the outliers, even though the macro f1 score is lower. Let's try using a different scoring metric than macro f1 and see if we get even better results."
   ]
  },
  {
   "cell_type": "code",
   "execution_count": 53,
   "id": "b40cfbb7",
   "metadata": {},
   "outputs": [
    {
     "data": {
      "text/plain": [
       "0.6222627737226277"
      ]
     },
     "execution_count": 53,
     "metadata": {},
     "output_type": "execute_result"
    }
   ],
   "source": [
    "y_pred = best_rf.predict(X_test)\n",
    "accuracy_score(y_test, y_pred)"
   ]
  },
  {
   "cell_type": "markdown",
   "id": "f7063cbe",
   "metadata": {},
   "source": [
    "We got an accuracy of 0.62 using random forest trained using macro f1. Let's use accuracy for training."
   ]
  },
  {
   "cell_type": "markdown",
   "id": "529089b8",
   "metadata": {},
   "source": [
    "#### Logistic regression"
   ]
  },
  {
   "cell_type": "code",
   "execution_count": 72,
   "id": "bb3e4aef",
   "metadata": {},
   "outputs": [
    {
     "name": "stdout",
     "output_type": "stream",
     "text": [
      "Fitting 5 folds for each of 260 candidates, totalling 1300 fits\n",
      "{'logisticregression__C': 100, 'logisticregression__penalty': 'l2', 'pca__n_components': 25}\n",
      "0.8237701856803421\n"
     ]
    }
   ],
   "source": [
    "param_grid = {\n",
    "    'pca__n_components': [5, 10, 15, 20, 25],\n",
    "    'logisticregression__penalty': [None, 'l1', 'l2', 'elastic'],\n",
    "    'logisticregression__C': [0.1, 0.5, 1, 1.5, 2, 4, 6, 8, 10, 20, 50, 100, 200],\n",
    "}\n",
    "\n",
    "pipe_lr = make_pipeline(PCA(), # Compression using PCA\n",
    "                         LogisticRegression()) # Fit logistic regresion classifier\n",
    "\n",
    "\n",
    "grid_lr = GridSearchCV(pipe_lr, param_grid, cv=5, n_jobs=-1, verbose=1, scoring=\"accuracy\")\n",
    "\n",
    "grid_lr.fit(X_train_scaled, y_train)\n",
    "\n",
    "print(grid_lr.best_params_)\n",
    "print(grid_lr.best_score_)\n",
    "\n",
    "best_lr = grid_lr.best_estimator_"
   ]
  },
  {
   "cell_type": "markdown",
   "id": "b725881e",
   "metadata": {},
   "source": [
    "#### Support vector machines"
   ]
  },
  {
   "cell_type": "code",
   "execution_count": 91,
   "id": "acd773c8",
   "metadata": {},
   "outputs": [
    {
     "name": "stdout",
     "output_type": "stream",
     "text": [
      "Fitting 5 folds for each of 54 candidates, totalling 270 fits\n",
      "{'pca__n_components': 25, 'svc__C': 1, 'svc__gamma': 0.1, 'svc__kernel': 'rbf'}\n",
      "0.8370273774590393\n"
     ]
    }
   ],
   "source": [
    "param_grid = {\n",
    "    'pca__n_components': [15, 20, 25],\n",
    "    'svc__kernel':['linear', 'rbf'],\n",
    "    'svc__C': [1, 10, 100],\n",
    "    'svc__gamma': [1, 0.1, 0.001]\n",
    "}\n",
    "\n",
    "pipe_svc = make_pipeline(PCA(), # Compression using PCA\n",
    "                        SVC()) # Fit support vector classifier\n",
    "\n",
    "\n",
    "grid_svc = GridSearchCV(pipe_svc, param_grid, cv=5, n_jobs=-1, verbose=1, scoring=\"accuracy\")\n",
    "\n",
    "grid_svc.fit(X_train_scaled, y_train)\n",
    "\n",
    "print(grid_svc.best_params_)\n",
    "print(grid_svc.best_score_)\n",
    "\n",
    "best_svc = grid_svc.best_estimator_"
   ]
  },
  {
   "cell_type": "markdown",
   "id": "a0d8ad89",
   "metadata": {},
   "source": [
    "#### KNN"
   ]
  },
  {
   "cell_type": "code",
   "execution_count": 92,
   "id": "d47d1b31",
   "metadata": {},
   "outputs": [
    {
     "name": "stdout",
     "output_type": "stream",
     "text": [
      "Fitting 5 folds for each of 72 candidates, totalling 360 fits\n",
      "{'kneighborsclassifier__metric': 'minkowski', 'kneighborsclassifier__n_neighbors': 10, 'kneighborsclassifier__weights': 'distance', 'pca__n_components': 25}\n",
      "0.8047232165567557\n"
     ]
    }
   ],
   "source": [
    "param_grid = {\n",
    "    'pca__n_components': [15, 20, 25],\n",
    "    'kneighborsclassifier__n_neighbors': [1, 2, 3, 4, 5, 10],\n",
    "    'kneighborsclassifier__weights': ['uniform', 'distance'],\n",
    "    'kneighborsclassifier__metric': ['minkowski', 'chebyshev'],\n",
    "}\n",
    "\n",
    "pipe_knn = make_pipeline(PCA(n_components=20), # Compression using PCA\n",
    "                         KNeighborsClassifier()) # Fit knn classifier\n",
    "\n",
    "\n",
    "grid_knn = GridSearchCV(pipe_knn, param_grid, cv=5, n_jobs=-1, verbose=1, scoring=\"accuracy\")\n",
    "\n",
    "grid_knn.fit(X_train_scaled, y_train)\n",
    "\n",
    "print(grid_knn.best_params_)\n",
    "print(grid_knn.best_score_)\n",
    "\n",
    "best_knn = grid_knn.best_estimator_"
   ]
  },
  {
   "cell_type": "markdown",
   "id": "432a056c",
   "metadata": {},
   "source": [
    "#### Decision tree"
   ]
  },
  {
   "cell_type": "code",
   "execution_count": 93,
   "id": "f862ab10",
   "metadata": {},
   "outputs": [
    {
     "name": "stdout",
     "output_type": "stream",
     "text": [
      "Fitting 5 folds for each of 24 candidates, totalling 120 fits\n",
      "{'decisiontreeclassifier__criterion': 'entropy', 'decisiontreeclassifier__max_depth': 10, 'pca__n_components': 25}\n",
      "0.7948098218883188\n"
     ]
    }
   ],
   "source": [
    "param_grid = {\n",
    "    'pca__n_components': [15, 20, 25],\n",
    "    'decisiontreeclassifier__criterion':['gini', 'entropy'],\n",
    "    'decisiontreeclassifier__max_depth': [2, 5, 10, 12],\n",
    "}\n",
    "\n",
    "pipe_dt = make_pipeline(PCA(), # Compression using PCA\n",
    "                        DecisionTreeClassifier()) # Fit decision tree classifier\n",
    "\n",
    "\n",
    "grid_dt = GridSearchCV(pipe_dt, param_grid, cv=5, n_jobs=-1, verbose=1, scoring=\"accuracy\")\n",
    "\n",
    "grid_dt.fit(X_train_scaled, y_train)\n",
    "\n",
    "print(grid_dt.best_params_)\n",
    "print(grid_dt.best_score_)\n",
    "\n",
    "best_knn = grid_dt.best_estimator_"
   ]
  },
  {
   "cell_type": "markdown",
   "id": "1032afa7",
   "metadata": {},
   "source": [
    "#### Random forest"
   ]
  },
  {
   "cell_type": "code",
   "execution_count": 94,
   "id": "eec423d0",
   "metadata": {},
   "outputs": [
    {
     "name": "stdout",
     "output_type": "stream",
     "text": [
      "Fitting 5 folds for each of 72 candidates, totalling 360 fits\n",
      "{'pca__n_components': 25, 'randomforestclassifier__criterion': 'entropy', 'randomforestclassifier__max_depth': 20, 'randomforestclassifier__n_estimators': 200}\n",
      "0.8428215595163501\n"
     ]
    }
   ],
   "source": [
    "param_grid = {\n",
    "    'pca__n_components': [15, 20, 25],\n",
    "    'randomforestclassifier__n_estimators': [100, 200, 300],\n",
    "    'randomforestclassifier__criterion': ['gini', 'entropy'],\n",
    "    'randomforestclassifier__max_depth': [10, 12, 15, 20],\n",
    "}\n",
    "\n",
    "pipe_rf = make_pipeline(PCA(), # Compression using PCA\n",
    "                        RandomForestClassifier()) # Fit random forest classifier\n",
    "\n",
    "\n",
    "grid_rf = GridSearchCV(pipe_rf, param_grid, cv=5, n_jobs=-1, verbose=1, scoring=\"accuracy\")\n",
    "\n",
    "grid_rf.fit(X_train_scaled, y_train)\n",
    "\n",
    "print(grid_rf.best_params_)\n",
    "print(grid_rf.best_score_)\n",
    "\n",
    "best_rf = grid_rf.best_estimator_"
   ]
  },
  {
   "cell_type": "markdown",
   "id": "9b85d971",
   "metadata": {},
   "source": [
    "#### Confusion matrix"
   ]
  },
  {
   "cell_type": "code",
   "execution_count": 95,
   "id": "51f7bc99",
   "metadata": {},
   "outputs": [],
   "source": [
    "# We use 5 folds, fit a model and make a prediction for each fold\n",
    "kfold = KFold(n_splits=5)\n",
    "\n",
    "predicted_targets = np.array([]) # Array for predictions\n",
    "actual_targets = np.array([]) # Array for true y values\n",
    "\n",
    "pipe_rf = make_pipeline(PCA(n_components=25), RandomForestClassifier(criterion='entropy', max_depth=20, n_estimators=200))\n",
    "\n",
    "for i in kfold.split(no_outliers_df):\n",
    "    X_train, X_test, y_train, y_test = train_test_split(X_train, y_train)\n",
    "    pipe_rf.fit(X_train, y_train)\n",
    "    y_pred = pipe_rf.predict(X_test)\n",
    "    predicted_targets= np.append(predicted_targets, y_pred)\n",
    "    actual_targets = np.append(actual_targets, y_test)"
   ]
  },
  {
   "cell_type": "code",
   "execution_count": 96,
   "id": "2beac857",
   "metadata": {},
   "outputs": [
    {
     "data": {
      "image/png": "[encoded data removed]",
      "text/plain": [
       "<Figure size 250x250 with 1 Axes>"
      ]
     },
     "metadata": {},
     "output_type": "display_data"
    }
   ],
   "source": [
    "# Make confusion matrix\n",
    "confmat = confusion_matrix(y_true=actual_targets, y_pred=predicted_targets)\n",
    "\n",
    "# Make the plot\n",
    "fig, ax = plt.subplots(figsize=(2.5, 2.5))\n",
    "ax.matshow(confmat, cmap=plt.cm.Blues, alpha=0.3)\n",
    "for i in range(confmat.shape[0]):\n",
    "    for j in range(confmat.shape[1]):\n",
    "        ax.text(x=j, y=i, s=confmat[i, j], va='center', ha='center')\n",
    "\n",
    "plt.xlabel('Predicted label')\n",
    "plt.ylabel('True label')\n",
    "\n",
    "plt.tight_layout()\n",
    "plt.show()"
   ]
  }
 ],
 "metadata": {
  "kernelspec": {
   "display_name": "Python 3 (ipykernel)",
   "language": "python",
   "name": "python3"
  },
  "language_info": {
   "codemirror_mode": {
    "name": "ipython",
    "version": 3
   },
   "file_extension": ".py",
   "mimetype": "text/x-python",
   "name": "python",
   "nbconvert_exporter": "python",
   "pygments_lexer": "ipython3",
   "version": "3.10.4"
  }
 },
 "nbformat": 4,
 "nbformat_minor": 5
}
