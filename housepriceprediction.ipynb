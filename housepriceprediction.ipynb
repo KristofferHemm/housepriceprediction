{
 "cells": [
  {
   "cell_type": "markdown",
   "id": "9d3d6fc5",
   "metadata": {},
   "source": [
    "# House price prediction"
   ]
  },
  {
   "cell_type": "markdown",
   "id": "9e4b4bf4",
   "metadata": {},
   "source": [
    "The dataset for this project consists of property data from Melbourne.  \n",
    "The features are a mix of continuous and categorical variables.  \n",
    "The task is to predict which price class a property in the city belongs to."
   ]
  },
  {
   "cell_type": "markdown",
   "id": "04f48eb6",
   "metadata": {},
   "source": [
    "### Imports"
   ]
  },
  {
   "cell_type": "code",
   "execution_count": 2,
   "id": "ea75df3e",
   "metadata": {},
   "outputs": [],
   "source": [
    "import pandas as pd\n",
    "import numpy as np\n",
    "from sklearn.preprocessing import OneHotEncoder"
   ]
  },
  {
   "cell_type": "markdown",
   "id": "60430d36",
   "metadata": {},
   "source": [
    "### Reading the data"
   ]
  },
  {
   "cell_type": "code",
   "execution_count": 3,
   "id": "954a57d4",
   "metadata": {},
   "outputs": [],
   "source": [
    "raw_df = pd.read_csv('data/train.csv', index_col=0)"
   ]
  },
  {
   "cell_type": "markdown",
   "id": "663a11db",
   "metadata": {},
   "source": [
    "### Data exploration and visualisation"
   ]
  },
  {
   "cell_type": "markdown",
   "id": "593d20fc",
   "metadata": {},
   "source": [
    "Let's look at the shape of the data."
   ]
  },
  {
   "cell_type": "code",
   "execution_count": 4,
   "id": "74e34b84",
   "metadata": {},
   "outputs": [
    {
     "name": "stdout",
     "output_type": "stream",
     "text": [
      "Shape of the dataset: (11543, 15).\n"
     ]
    }
   ],
   "source": [
    "print(f'Shape of the dataset: {raw_df.shape}.')"
   ]
  },
  {
   "cell_type": "markdown",
   "id": "8d91e426",
   "metadata": {},
   "source": [
    "Let's have a look at the dataset."
   ]
  },
  {
   "cell_type": "code",
   "execution_count": 5,
   "id": "2ff93527",
   "metadata": {},
   "outputs": [
    {
     "data": {
      "text/html": [
       "<div>\n",
       "<style scoped>\n",
       "    .dataframe tbody tr th:only-of-type {\n",
       "        vertical-align: middle;\n",
       "    }\n",
       "\n",
       "    .dataframe tbody tr th {\n",
       "        vertical-align: top;\n",
       "    }\n",
       "\n",
       "    .dataframe thead th {\n",
       "        text-align: right;\n",
       "    }\n",
       "</style>\n",
       "<table border=\"1\" class=\"dataframe\">\n",
       "  <thead>\n",
       "    <tr style=\"text-align: right;\">\n",
       "      <th></th>\n",
       "      <th>Rooms</th>\n",
       "      <th>Type</th>\n",
       "      <th>Method</th>\n",
       "      <th>Distance</th>\n",
       "      <th>Postcode</th>\n",
       "      <th>Bedrooms</th>\n",
       "      <th>Bathroom</th>\n",
       "      <th>Car</th>\n",
       "      <th>Landsize</th>\n",
       "      <th>YearBuilt</th>\n",
       "      <th>Lattitude</th>\n",
       "      <th>Longtitude</th>\n",
       "      <th>Regionname</th>\n",
       "      <th>Propertycount</th>\n",
       "      <th>Price class</th>\n",
       "    </tr>\n",
       "  </thead>\n",
       "  <tbody>\n",
       "    <tr>\n",
       "      <th>0</th>\n",
       "      <td>4</td>\n",
       "      <td>h</td>\n",
       "      <td>S</td>\n",
       "      <td>6.4</td>\n",
       "      <td>3011.0</td>\n",
       "      <td>3.0</td>\n",
       "      <td>1.0</td>\n",
       "      <td>2.0</td>\n",
       "      <td>411.0</td>\n",
       "      <td>NaN</td>\n",
       "      <td>-37.79690</td>\n",
       "      <td>144.90490</td>\n",
       "      <td>Western Metropolitan</td>\n",
       "      <td>7570.0</td>\n",
       "      <td>1</td>\n",
       "    </tr>\n",
       "    <tr>\n",
       "      <th>1</th>\n",
       "      <td>4</td>\n",
       "      <td>h</td>\n",
       "      <td>S</td>\n",
       "      <td>14.6</td>\n",
       "      <td>3189.0</td>\n",
       "      <td>4.0</td>\n",
       "      <td>1.0</td>\n",
       "      <td>2.0</td>\n",
       "      <td>638.0</td>\n",
       "      <td>1972.0</td>\n",
       "      <td>-37.93780</td>\n",
       "      <td>145.05700</td>\n",
       "      <td>Southern Metropolitan</td>\n",
       "      <td>2555.0</td>\n",
       "      <td>1</td>\n",
       "    </tr>\n",
       "    <tr>\n",
       "      <th>2</th>\n",
       "      <td>5</td>\n",
       "      <td>h</td>\n",
       "      <td>PI</td>\n",
       "      <td>12.4</td>\n",
       "      <td>3107.0</td>\n",
       "      <td>5.0</td>\n",
       "      <td>4.0</td>\n",
       "      <td>2.0</td>\n",
       "      <td>968.0</td>\n",
       "      <td>1970.0</td>\n",
       "      <td>-37.77083</td>\n",
       "      <td>145.11516</td>\n",
       "      <td>Eastern Metropolitan</td>\n",
       "      <td>5420.0</td>\n",
       "      <td>1</td>\n",
       "    </tr>\n",
       "    <tr>\n",
       "      <th>3</th>\n",
       "      <td>3</td>\n",
       "      <td>h</td>\n",
       "      <td>SP</td>\n",
       "      <td>5.2</td>\n",
       "      <td>3056.0</td>\n",
       "      <td>3.0</td>\n",
       "      <td>1.0</td>\n",
       "      <td>2.0</td>\n",
       "      <td>264.0</td>\n",
       "      <td>NaN</td>\n",
       "      <td>-37.76110</td>\n",
       "      <td>144.96440</td>\n",
       "      <td>Northern Metropolitan</td>\n",
       "      <td>11918.0</td>\n",
       "      <td>0</td>\n",
       "    </tr>\n",
       "    <tr>\n",
       "      <th>4</th>\n",
       "      <td>3</td>\n",
       "      <td>h</td>\n",
       "      <td>S</td>\n",
       "      <td>8.8</td>\n",
       "      <td>3072.0</td>\n",
       "      <td>3.0</td>\n",
       "      <td>1.0</td>\n",
       "      <td>2.0</td>\n",
       "      <td>610.0</td>\n",
       "      <td>NaN</td>\n",
       "      <td>-37.75100</td>\n",
       "      <td>145.01970</td>\n",
       "      <td>Northern Metropolitan</td>\n",
       "      <td>14577.0</td>\n",
       "      <td>0</td>\n",
       "    </tr>\n",
       "  </tbody>\n",
       "</table>\n",
       "</div>"
      ],
      "text/plain": [
       "   Rooms Type Method  Distance  Postcode  Bedrooms  Bathroom  Car  Landsize  \\\n",
       "0      4    h      S       6.4    3011.0       3.0       1.0  2.0     411.0   \n",
       "1      4    h      S      14.6    3189.0       4.0       1.0  2.0     638.0   \n",
       "2      5    h     PI      12.4    3107.0       5.0       4.0  2.0     968.0   \n",
       "3      3    h     SP       5.2    3056.0       3.0       1.0  2.0     264.0   \n",
       "4      3    h      S       8.8    3072.0       3.0       1.0  2.0     610.0   \n",
       "\n",
       "   YearBuilt  Lattitude  Longtitude             Regionname  Propertycount  \\\n",
       "0        NaN  -37.79690   144.90490   Western Metropolitan         7570.0   \n",
       "1     1972.0  -37.93780   145.05700  Southern Metropolitan         2555.0   \n",
       "2     1970.0  -37.77083   145.11516   Eastern Metropolitan         5420.0   \n",
       "3        NaN  -37.76110   144.96440  Northern Metropolitan        11918.0   \n",
       "4        NaN  -37.75100   145.01970  Northern Metropolitan        14577.0   \n",
       "\n",
       "   Price class  \n",
       "0            1  \n",
       "1            1  \n",
       "2            1  \n",
       "3            0  \n",
       "4            0  "
      ]
     },
     "execution_count": 5,
     "metadata": {},
     "output_type": "execute_result"
    }
   ],
   "source": [
    "raw_df.head()"
   ]
  },
  {
   "cell_type": "markdown",
   "id": "52bf05bc",
   "metadata": {},
   "source": [
    "We see that the following features are strings: Type, Method and Regionname.  \n",
    "We need to encode these features."
   ]
  },
  {
   "cell_type": "markdown",
   "id": "a5aed62d",
   "metadata": {},
   "source": [
    "Let's check what types of data we have."
   ]
  },
  {
   "cell_type": "code",
   "execution_count": 6,
   "id": "1d7218ee",
   "metadata": {},
   "outputs": [
    {
     "data": {
      "text/plain": [
       "Rooms              int64\n",
       "Type              object\n",
       "Method            object\n",
       "Distance         float64\n",
       "Postcode         float64\n",
       "Bedrooms         float64\n",
       "Bathroom         float64\n",
       "Car              float64\n",
       "Landsize         float64\n",
       "YearBuilt        float64\n",
       "Lattitude        float64\n",
       "Longtitude       float64\n",
       "Regionname        object\n",
       "Propertycount    float64\n",
       "Price class        int64\n",
       "dtype: object"
      ]
     },
     "execution_count": 6,
     "metadata": {},
     "output_type": "execute_result"
    }
   ],
   "source": [
    "raw_df.dtypes"
   ]
  },
  {
   "cell_type": "markdown",
   "id": "9bb4682c",
   "metadata": {},
   "source": [
    "Most of the features are floats.  \n",
    "Number of rooms in a house is an integer.  \n",
    "And the target feature is an integer."
   ]
  },
  {
   "cell_type": "markdown",
   "id": "1f40bc5c",
   "metadata": {},
   "source": [
    "Let's check for missing data."
   ]
  },
  {
   "cell_type": "code",
   "execution_count": 7,
   "id": "0227cf01",
   "metadata": {},
   "outputs": [
    {
     "data": {
      "text/plain": [
       "Rooms               0\n",
       "Type                0\n",
       "Method              0\n",
       "Distance            0\n",
       "Postcode            0\n",
       "Bedrooms            0\n",
       "Bathroom           46\n",
       "Car                53\n",
       "Landsize           33\n",
       "YearBuilt        4572\n",
       "Lattitude           0\n",
       "Longtitude          0\n",
       "Regionname          0\n",
       "Propertycount      40\n",
       "Price class         0\n",
       "dtype: int64"
      ]
     },
     "execution_count": 7,
     "metadata": {},
     "output_type": "execute_result"
    }
   ],
   "source": [
    "raw_df.isna().sum()"
   ]
  },
  {
   "cell_type": "markdown",
   "id": "531c89ef",
   "metadata": {},
   "source": [
    "We see that we have missing data in the following features: Bathroom, Car, Landside, YearBuilt and Propertycount.  \n",
    "This must be dealt with."
   ]
  },
  {
   "cell_type": "markdown",
   "id": "7fadc00f",
   "metadata": {},
   "source": [
    "Let's see how many different categories we have in the target feature."
   ]
  },
  {
   "cell_type": "code",
   "execution_count": 8,
   "id": "bc7f6f02",
   "metadata": {},
   "outputs": [
    {
     "data": {
      "text/plain": [
       "3"
      ]
     },
     "execution_count": 8,
     "metadata": {},
     "output_type": "execute_result"
    }
   ],
   "source": [
    "raw_df['Price class'].nunique()"
   ]
  },
  {
   "cell_type": "markdown",
   "id": "0d7377c4",
   "metadata": {},
   "source": [
    "The target feature has 3 different categories.  \n",
    "Let's look at what those 3 labels are."
   ]
  },
  {
   "cell_type": "code",
   "execution_count": 9,
   "id": "fa32baba",
   "metadata": {},
   "outputs": [
    {
     "data": {
      "text/plain": [
       "array([1, 0, 2], dtype=int64)"
      ]
     },
     "execution_count": 9,
     "metadata": {},
     "output_type": "execute_result"
    }
   ],
   "source": [
    "raw_df['Price class'].unique()"
   ]
  },
  {
   "cell_type": "markdown",
   "id": "f8869587",
   "metadata": {},
   "source": [
    "The three labels in the target are the following integers: 0, 1, and 2."
   ]
  },
  {
   "cell_type": "markdown",
   "id": "fc8c94e4",
   "metadata": {},
   "source": [
    "### Data cleaning"
   ]
  },
  {
   "cell_type": "markdown",
   "id": "afc113fc",
   "metadata": {},
   "source": [
    "First we will encode the features that are strings."
   ]
  },
  {
   "cell_type": "code",
   "execution_count": 14,
   "id": "fffe5c52",
   "metadata": {},
   "outputs": [],
   "source": [
    "# We will use onehot encoder from scikitlearn to encode the string features.\n",
    "def encoding(x):\n",
    "    ohe = OneHotEncoder()\n",
    "    ohe_results = ohe.fit_transform(raw_df[[x]])\n",
    "    return pd.DataFrame(ohe_results.toarray(), columns=ohe.categories_)\n",
    "\n",
    "# Type, Method and Regionname features need to be encoded\n",
    "typ = encoding('Type')\n",
    "method = encoding('Method')\n",
    "region = encoding('Regionname')\n",
    "\n",
    "# Add the encoded features\n",
    "encoded_df = raw_df.join(pd.DataFrame(typ))\n",
    "encoded_df = encoded_df.join(pd.DataFrame(method))\n",
    "encoded_df = encoded_df.join(pd.DataFrame(region))\n",
    "\n",
    "# Remove the original features containing strings\n",
    "del encoded_df['Type']\n",
    "del encoded_df['Method']\n",
    "del encoded_df['Regionname']"
   ]
  },
  {
   "cell_type": "markdown",
   "id": "070fcf3e",
   "metadata": {},
   "source": [
    "Let's move price class, the target feature, to the end of the dataframe for convenience"
   ]
  },
  {
   "cell_type": "code",
   "execution_count": 16,
   "id": "0a07bc49",
   "metadata": {},
   "outputs": [
    {
     "data": {
      "text/html": [
       "<div>\n",
       "<style scoped>\n",
       "    .dataframe tbody tr th:only-of-type {\n",
       "        vertical-align: middle;\n",
       "    }\n",
       "\n",
       "    .dataframe tbody tr th {\n",
       "        vertical-align: top;\n",
       "    }\n",
       "\n",
       "    .dataframe thead th {\n",
       "        text-align: right;\n",
       "    }\n",
       "</style>\n",
       "<table border=\"1\" class=\"dataframe\">\n",
       "  <thead>\n",
       "    <tr style=\"text-align: right;\">\n",
       "      <th></th>\n",
       "      <th>Rooms</th>\n",
       "      <th>Distance</th>\n",
       "      <th>Postcode</th>\n",
       "      <th>Bedrooms</th>\n",
       "      <th>Bathroom</th>\n",
       "      <th>Car</th>\n",
       "      <th>Landsize</th>\n",
       "      <th>YearBuilt</th>\n",
       "      <th>Lattitude</th>\n",
       "      <th>Longtitude</th>\n",
       "      <th>...</th>\n",
       "      <th>(VB,)</th>\n",
       "      <th>(Eastern Metropolitan,)</th>\n",
       "      <th>(Eastern Victoria,)</th>\n",
       "      <th>(Northern Metropolitan,)</th>\n",
       "      <th>(Northern Victoria,)</th>\n",
       "      <th>(South-Eastern Metropolitan,)</th>\n",
       "      <th>(Southern Metropolitan,)</th>\n",
       "      <th>(Western Metropolitan,)</th>\n",
       "      <th>(Western Victoria,)</th>\n",
       "      <th>Price class</th>\n",
       "    </tr>\n",
       "  </thead>\n",
       "  <tbody>\n",
       "    <tr>\n",
       "      <th>0</th>\n",
       "      <td>4</td>\n",
       "      <td>6.4</td>\n",
       "      <td>3011.0</td>\n",
       "      <td>3.0</td>\n",
       "      <td>1.0</td>\n",
       "      <td>2.0</td>\n",
       "      <td>411.0</td>\n",
       "      <td>NaN</td>\n",
       "      <td>-37.79690</td>\n",
       "      <td>144.90490</td>\n",
       "      <td>...</td>\n",
       "      <td>0.0</td>\n",
       "      <td>0.0</td>\n",
       "      <td>0.0</td>\n",
       "      <td>0.0</td>\n",
       "      <td>0.0</td>\n",
       "      <td>0.0</td>\n",
       "      <td>0.0</td>\n",
       "      <td>1.0</td>\n",
       "      <td>0.0</td>\n",
       "      <td>1</td>\n",
       "    </tr>\n",
       "    <tr>\n",
       "      <th>1</th>\n",
       "      <td>4</td>\n",
       "      <td>14.6</td>\n",
       "      <td>3189.0</td>\n",
       "      <td>4.0</td>\n",
       "      <td>1.0</td>\n",
       "      <td>2.0</td>\n",
       "      <td>638.0</td>\n",
       "      <td>1972.0</td>\n",
       "      <td>-37.93780</td>\n",
       "      <td>145.05700</td>\n",
       "      <td>...</td>\n",
       "      <td>0.0</td>\n",
       "      <td>0.0</td>\n",
       "      <td>0.0</td>\n",
       "      <td>0.0</td>\n",
       "      <td>0.0</td>\n",
       "      <td>0.0</td>\n",
       "      <td>1.0</td>\n",
       "      <td>0.0</td>\n",
       "      <td>0.0</td>\n",
       "      <td>1</td>\n",
       "    </tr>\n",
       "    <tr>\n",
       "      <th>2</th>\n",
       "      <td>5</td>\n",
       "      <td>12.4</td>\n",
       "      <td>3107.0</td>\n",
       "      <td>5.0</td>\n",
       "      <td>4.0</td>\n",
       "      <td>2.0</td>\n",
       "      <td>968.0</td>\n",
       "      <td>1970.0</td>\n",
       "      <td>-37.77083</td>\n",
       "      <td>145.11516</td>\n",
       "      <td>...</td>\n",
       "      <td>0.0</td>\n",
       "      <td>1.0</td>\n",
       "      <td>0.0</td>\n",
       "      <td>0.0</td>\n",
       "      <td>0.0</td>\n",
       "      <td>0.0</td>\n",
       "      <td>0.0</td>\n",
       "      <td>0.0</td>\n",
       "      <td>0.0</td>\n",
       "      <td>1</td>\n",
       "    </tr>\n",
       "    <tr>\n",
       "      <th>3</th>\n",
       "      <td>3</td>\n",
       "      <td>5.2</td>\n",
       "      <td>3056.0</td>\n",
       "      <td>3.0</td>\n",
       "      <td>1.0</td>\n",
       "      <td>2.0</td>\n",
       "      <td>264.0</td>\n",
       "      <td>NaN</td>\n",
       "      <td>-37.76110</td>\n",
       "      <td>144.96440</td>\n",
       "      <td>...</td>\n",
       "      <td>0.0</td>\n",
       "      <td>0.0</td>\n",
       "      <td>0.0</td>\n",
       "      <td>1.0</td>\n",
       "      <td>0.0</td>\n",
       "      <td>0.0</td>\n",
       "      <td>0.0</td>\n",
       "      <td>0.0</td>\n",
       "      <td>0.0</td>\n",
       "      <td>0</td>\n",
       "    </tr>\n",
       "    <tr>\n",
       "      <th>4</th>\n",
       "      <td>3</td>\n",
       "      <td>8.8</td>\n",
       "      <td>3072.0</td>\n",
       "      <td>3.0</td>\n",
       "      <td>1.0</td>\n",
       "      <td>2.0</td>\n",
       "      <td>610.0</td>\n",
       "      <td>NaN</td>\n",
       "      <td>-37.75100</td>\n",
       "      <td>145.01970</td>\n",
       "      <td>...</td>\n",
       "      <td>0.0</td>\n",
       "      <td>0.0</td>\n",
       "      <td>0.0</td>\n",
       "      <td>1.0</td>\n",
       "      <td>0.0</td>\n",
       "      <td>0.0</td>\n",
       "      <td>0.0</td>\n",
       "      <td>0.0</td>\n",
       "      <td>0.0</td>\n",
       "      <td>0</td>\n",
       "    </tr>\n",
       "  </tbody>\n",
       "</table>\n",
       "<p>5 rows × 28 columns</p>\n",
       "</div>"
      ],
      "text/plain": [
       "   Rooms  Distance  Postcode  Bedrooms  Bathroom  Car  Landsize  YearBuilt  \\\n",
       "0      4       6.4    3011.0       3.0       1.0  2.0     411.0        NaN   \n",
       "1      4      14.6    3189.0       4.0       1.0  2.0     638.0     1972.0   \n",
       "2      5      12.4    3107.0       5.0       4.0  2.0     968.0     1970.0   \n",
       "3      3       5.2    3056.0       3.0       1.0  2.0     264.0        NaN   \n",
       "4      3       8.8    3072.0       3.0       1.0  2.0     610.0        NaN   \n",
       "\n",
       "   Lattitude  Longtitude  ...  (VB,)  (Eastern Metropolitan,)  \\\n",
       "0  -37.79690   144.90490  ...    0.0                      0.0   \n",
       "1  -37.93780   145.05700  ...    0.0                      0.0   \n",
       "2  -37.77083   145.11516  ...    0.0                      1.0   \n",
       "3  -37.76110   144.96440  ...    0.0                      0.0   \n",
       "4  -37.75100   145.01970  ...    0.0                      0.0   \n",
       "\n",
       "   (Eastern Victoria,)  (Northern Metropolitan,)  (Northern Victoria,)  \\\n",
       "0                  0.0                       0.0                   0.0   \n",
       "1                  0.0                       0.0                   0.0   \n",
       "2                  0.0                       0.0                   0.0   \n",
       "3                  0.0                       1.0                   0.0   \n",
       "4                  0.0                       1.0                   0.0   \n",
       "\n",
       "   (South-Eastern Metropolitan,)  (Southern Metropolitan,)  \\\n",
       "0                            0.0                       0.0   \n",
       "1                            0.0                       1.0   \n",
       "2                            0.0                       0.0   \n",
       "3                            0.0                       0.0   \n",
       "4                            0.0                       0.0   \n",
       "\n",
       "   (Western Metropolitan,)  (Western Victoria,)  Price class  \n",
       "0                      1.0                  0.0            1  \n",
       "1                      0.0                  0.0            1  \n",
       "2                      0.0                  0.0            1  \n",
       "3                      0.0                  0.0            0  \n",
       "4                      0.0                  0.0            0  \n",
       "\n",
       "[5 rows x 28 columns]"
      ]
     },
     "execution_count": 16,
     "metadata": {},
     "output_type": "execute_result"
    }
   ],
   "source": [
    "price = encoded_df.pop('Price class')\n",
    "encoded_df['Price class'] = price\n",
    "encoded_df.head()"
   ]
  }
 ],
 "metadata": {
  "kernelspec": {
   "display_name": "Python 3 (ipykernel)",
   "language": "python",
   "name": "python3"
  },
  "language_info": {
   "codemirror_mode": {
    "name": "ipython",
    "version": 3
   },
   "file_extension": ".py",
   "mimetype": "text/x-python",
   "name": "python",
   "nbconvert_exporter": "python",
   "pygments_lexer": "ipython3",
   "version": "3.10.4"
  }
 },
 "nbformat": 4,
 "nbformat_minor": 5
}
